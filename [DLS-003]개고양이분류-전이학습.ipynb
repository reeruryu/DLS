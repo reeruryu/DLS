{
 "cells": [
  {
   "cell_type": "markdown",
   "id": "7dec557f",
   "metadata": {
    "papermill": {
     "duration": 0.006985,
     "end_time": "2023-04-10T04:16:22.051930",
     "exception": false,
     "start_time": "2023-04-10T04:16:22.044945",
     "status": "completed"
    },
    "tags": []
   },
   "source": [
    "# [Deep Learning for Vision Systems](https://www.manning.com/books/deep-learning-for-vision-systems?a_aid=compvisionbookcom&a_bid=90abff15) Book\n",
    "\n",
    "\n",
    "## Chapter 6 Project: Transfer learning exercise\n",
    "\n",
    "---\n",
    "### 1. Import the libraries that we need\n"
   ]
  },
  {
   "cell_type": "code",
   "execution_count": 1,
   "id": "e4299e91",
   "metadata": {
    "execution": {
     "iopub.execute_input": "2023-04-10T04:16:22.065020Z",
     "iopub.status.busy": "2023-04-10T04:16:22.064547Z",
     "iopub.status.idle": "2023-04-10T04:16:24.546764Z",
     "shell.execute_reply": "2023-04-10T04:16:24.545439Z"
    },
    "papermill": {
     "duration": 2.491812,
     "end_time": "2023-04-10T04:16:24.549466",
     "exception": false,
     "start_time": "2023-04-10T04:16:22.057654",
     "status": "completed"
    },
    "tags": []
   },
   "outputs": [],
   "source": [
    "#random seed 고정\n",
    "import random\n",
    "import torch\n",
    "import numpy as np\n",
    "\n",
    "seed = 42\n",
    "random.seed(seed)\n",
    "np.random.seed(seed)\n",
    "torch.manual_seed(seed)\n",
    "if torch.cuda.is_available() : \n",
    "    torch.cuda.manual_seed(seed)\n",
    "    torch.cuda.manual_seed_all(seed)\n",
    "torch.backends.cudnn.benchmark = False\n",
    "torch.backends.cudnn.deterministic = True"
   ]
  },
  {
   "cell_type": "code",
   "execution_count": 2,
   "id": "f537776b",
   "metadata": {
    "execution": {
     "iopub.execute_input": "2023-04-10T04:16:24.566011Z",
     "iopub.status.busy": "2023-04-10T04:16:24.564306Z",
     "iopub.status.idle": "2023-04-10T04:16:34.976905Z",
     "shell.execute_reply": "2023-04-10T04:16:34.975418Z"
    },
    "papermill": {
     "duration": 10.422578,
     "end_time": "2023-04-10T04:16:34.979110",
     "exception": false,
     "start_time": "2023-04-10T04:16:24.556532",
     "status": "completed"
    },
    "tags": []
   },
   "outputs": [
    {
     "name": "stdout",
     "output_type": "stream",
     "text": [
      "DEVICE:cuda\n",
      "Collecting torchsummary\r\n",
      "  Downloading torchsummary-1.5.1-py3-none-any.whl (2.8 kB)\r\n",
      "Installing collected packages: torchsummary\r\n",
      "Successfully installed torchsummary-1.5.1\r\n",
      "\u001b[33mWARNING: Running pip as the 'root' user can result in broken permissions and conflicting behaviour with the system package manager. It is recommended to use a virtual environment instead: https://pip.pypa.io/warnings/venv\u001b[0m\u001b[33m\r\n",
      "\u001b[0mNote: you may need to restart the kernel to use updated packages.\n"
     ]
    }
   ],
   "source": [
    "# DEVICE 초기화\n",
    "DEVICE = torch.device('cuda') if torch.cuda.is_available() else torch.device('cpu')\n",
    "print(f\"DEVICE:{DEVICE}\")\n",
    "\n",
    "\n",
    "# model summary\n",
    "%pip install torchsummary ## model을 요약하기 위해 torchsummary 설치\n",
    "from torchsummary import summary as summary_## 모델 정보를 확인하기 위해 torchsummary 함수 import\n",
    "\n",
    "## 모델의 형태를 출력하기 위한 함수 \n",
    "def summary_model(model,input_shape=(3, 32, 32)):\n",
    "    model = model.cuda()\n",
    "    summary_(model, input_shape) ## (model, (input shape))\n"
   ]
  },
  {
   "cell_type": "markdown",
   "id": "07cb5c86",
   "metadata": {
    "papermill": {
     "duration": 0.005602,
     "end_time": "2023-04-10T04:16:34.990624",
     "exception": false,
     "start_time": "2023-04-10T04:16:34.985022",
     "status": "completed"
    },
    "tags": []
   },
   "source": [
    "### 2. Data preparation"
   ]
  },
  {
   "cell_type": "code",
   "execution_count": 3,
   "id": "50d27081",
   "metadata": {
    "execution": {
     "iopub.execute_input": "2023-04-10T04:16:35.004433Z",
     "iopub.status.busy": "2023-04-10T04:16:35.002881Z",
     "iopub.status.idle": "2023-04-10T04:16:35.008982Z",
     "shell.execute_reply": "2023-04-10T04:16:35.008034Z"
    },
    "papermill": {
     "duration": 0.014833,
     "end_time": "2023-04-10T04:16:35.011006",
     "exception": false,
     "start_time": "2023-04-10T04:16:34.996173",
     "status": "completed"
    },
    "tags": []
   },
   "outputs": [],
   "source": [
    "train_path  = '/kaggle/input/2023-1-DLS-W6-P1/train'\n",
    "valid_path  = '/kaggle/input/2023-1-DLS-W6-P1/valid'\n",
    "test_path  = '/kaggle/input/2023-1-DLS-W6-P1/test'"
   ]
  },
  {
   "cell_type": "code",
   "execution_count": 4,
   "id": "f9d1ce14",
   "metadata": {
    "execution": {
     "iopub.execute_input": "2023-04-10T04:16:35.023967Z",
     "iopub.status.busy": "2023-04-10T04:16:35.023156Z",
     "iopub.status.idle": "2023-04-10T04:16:35.242719Z",
     "shell.execute_reply": "2023-04-10T04:16:35.241207Z"
    },
    "papermill": {
     "duration": 0.22851,
     "end_time": "2023-04-10T04:16:35.245048",
     "exception": false,
     "start_time": "2023-04-10T04:16:35.016538",
     "status": "completed"
    },
    "tags": []
   },
   "outputs": [
    {
     "name": "stdout",
     "output_type": "stream",
     "text": [
      "ImageClassification(\n",
      "    crop_size=[224]\n",
      "    resize_size=[224]\n",
      "    mean=[0.485, 0.456, 0.406]\n",
      "    std=[0.229, 0.224, 0.225]\n",
      "    interpolation=InterpolationMode.BILINEAR\n",
      ")\n"
     ]
    }
   ],
   "source": [
    "from torchvision.models import VGG16_Weights ## VGG16에서 사용한 transform을 이용하기 위해\n",
    "\n",
    "transform_ = VGG16_Weights.DEFAULT.transforms()\n",
    "transform_.resize_size=[224]\n",
    "print(transform_)"
   ]
  },
  {
   "cell_type": "code",
   "execution_count": 5,
   "id": "c082cb4b",
   "metadata": {
    "execution": {
     "iopub.execute_input": "2023-04-10T04:16:35.258034Z",
     "iopub.status.busy": "2023-04-10T04:16:35.257732Z",
     "iopub.status.idle": "2023-04-10T04:16:35.357940Z",
     "shell.execute_reply": "2023-04-10T04:16:35.356964Z"
    },
    "papermill": {
     "duration": 0.109156,
     "end_time": "2023-04-10T04:16:35.360130",
     "exception": false,
     "start_time": "2023-04-10T04:16:35.250974",
     "status": "completed"
    },
    "tags": []
   },
   "outputs": [],
   "source": [
    "## Torchvision의 함수를 이용하여 로더 작성하기\n",
    "import torch.nn as nn \n",
    "import torchvision\n",
    "\n",
    "batch_size = 30\n",
    "\n",
    "\n",
    "## Torchvision의 함수를 이용하여 로더 작성하기\n",
    "## https://pytorch.org/vision/stable/generated/torchvision.datasets.ImageFolder.html\n",
    "trainSet = torchvision.datasets.ImageFolder(root = train_path,\n",
    "                                            transform=transform_)\n",
    "validSet = torchvision.datasets.ImageFolder(root = valid_path,\n",
    "                                            transform=transform_)\n",
    "testSet = torchvision.datasets.ImageFolder(root = test_path,\n",
    "                                            transform=transform_)\n",
    "\n",
    "## loader\n",
    "trainloader = torch.utils.data.DataLoader(trainSet, batch_size=batch_size, shuffle=True)\n",
    "validloader = torch.utils.data.DataLoader(validSet, batch_size=batch_size, shuffle=False)\n",
    "testloader = torch.utils.data.DataLoader(testSet, batch_size=1, shuffle=False)\n"
   ]
  },
  {
   "cell_type": "code",
   "execution_count": 6,
   "id": "5be5e457",
   "metadata": {
    "execution": {
     "iopub.execute_input": "2023-04-10T04:16:35.374082Z",
     "iopub.status.busy": "2023-04-10T04:16:35.372619Z",
     "iopub.status.idle": "2023-04-10T04:16:35.755519Z",
     "shell.execute_reply": "2023-04-10T04:16:35.754498Z"
    },
    "papermill": {
     "duration": 0.391724,
     "end_time": "2023-04-10T04:16:35.757626",
     "exception": false,
     "start_time": "2023-04-10T04:16:35.365902",
     "status": "completed"
    },
    "tags": []
   },
   "outputs": [
    {
     "name": "stdout",
     "output_type": "stream",
     "text": [
      "image shape: torch.Size([30, 3, 224, 224])\n",
      "label shape: torch.Size([30])\n"
     ]
    }
   ],
   "source": [
    "images, labels = next(iter(trainloader))\n",
    "print(\"image shape:\", images.shape)\n",
    "print(\"label shape:\", labels.shape)"
   ]
  },
  {
   "attachments": {
    "6dfb49c8-88ca-41e2-acfe-35c512f8608a.png": {
     "image/png": "[encoded data removed]"
    }
   },
   "cell_type": "markdown",
   "id": "5706111e",
   "metadata": {
    "papermill": {
     "duration": 0.005594,
     "end_time": "2023-04-10T04:16:35.769491",
     "exception": false,
     "start_time": "2023-04-10T04:16:35.763897",
     "status": "completed"
    },
    "tags": []
   },
   "source": [
    "### 3. Download VGGNet and create our new network\n",
    "\n",
    "![image.png](attachment:6dfb49c8-88ca-41e2-acfe-35c512f8608a.png)"
   ]
  },
  {
   "cell_type": "code",
   "execution_count": 7,
   "id": "c8e4fc60",
   "metadata": {
    "execution": {
     "iopub.execute_input": "2023-04-10T04:16:35.783859Z",
     "iopub.status.busy": "2023-04-10T04:16:35.783521Z",
     "iopub.status.idle": "2023-04-10T04:16:44.411690Z",
     "shell.execute_reply": "2023-04-10T04:16:44.409715Z"
    },
    "papermill": {
     "duration": 8.638593,
     "end_time": "2023-04-10T04:16:44.414087",
     "exception": false,
     "start_time": "2023-04-10T04:16:35.775494",
     "status": "completed"
    },
    "tags": []
   },
   "outputs": [
    {
     "name": "stderr",
     "output_type": "stream",
     "text": [
      "Downloading: \"https://download.pytorch.org/models/vgg16-397923af.pth\" to /root/.cache/torch/hub/checkpoints/vgg16-397923af.pth\n"
     ]
    },
    {
     "data": {
      "application/vnd.jupyter.widget-view+json": {
       "model_id": "3d96eccaa1b846658422f8f9b0df1de8",
       "version_major": 2,
       "version_minor": 0
      },
      "text/plain": [
       "  0%|          | 0.00/528M [00:00<?, ?B/s]"
      ]
     },
     "metadata": {},
     "output_type": "display_data"
    },
    {
     "name": "stdout",
     "output_type": "stream",
     "text": [
      "Sequential(\n",
      "  (0): Conv2d(3, 64, kernel_size=(3, 3), stride=(1, 1), padding=(1, 1))\n",
      "  (1): ReLU(inplace=True)\n",
      "  (2): Conv2d(64, 64, kernel_size=(3, 3), stride=(1, 1), padding=(1, 1))\n",
      "  (3): ReLU(inplace=True)\n",
      "  (4): MaxPool2d(kernel_size=2, stride=2, padding=0, dilation=1, ceil_mode=False)\n",
      "  (5): Conv2d(64, 128, kernel_size=(3, 3), stride=(1, 1), padding=(1, 1))\n",
      "  (6): ReLU(inplace=True)\n",
      "  (7): Conv2d(128, 128, kernel_size=(3, 3), stride=(1, 1), padding=(1, 1))\n",
      "  (8): ReLU(inplace=True)\n",
      "  (9): MaxPool2d(kernel_size=2, stride=2, padding=0, dilation=1, ceil_mode=False)\n",
      "  (10): Conv2d(128, 256, kernel_size=(3, 3), stride=(1, 1), padding=(1, 1))\n",
      "  (11): ReLU(inplace=True)\n",
      "  (12): Conv2d(256, 256, kernel_size=(3, 3), stride=(1, 1), padding=(1, 1))\n",
      "  (13): ReLU(inplace=True)\n",
      "  (14): Conv2d(256, 256, kernel_size=(3, 3), stride=(1, 1), padding=(1, 1))\n",
      "  (15): ReLU(inplace=True)\n",
      "  (16): MaxPool2d(kernel_size=2, stride=2, padding=0, dilation=1, ceil_mode=False)\n",
      "  (17): Conv2d(256, 512, kernel_size=(3, 3), stride=(1, 1), padding=(1, 1))\n",
      "  (18): ReLU(inplace=True)\n",
      "  (19): Conv2d(512, 512, kernel_size=(3, 3), stride=(1, 1), padding=(1, 1))\n",
      "  (20): ReLU(inplace=True)\n",
      "  (21): Conv2d(512, 512, kernel_size=(3, 3), stride=(1, 1), padding=(1, 1))\n",
      "  (22): ReLU(inplace=True)\n",
      "  (23): MaxPool2d(kernel_size=2, stride=2, padding=0, dilation=1, ceil_mode=False)\n",
      "  (24): Conv2d(512, 512, kernel_size=(3, 3), stride=(1, 1), padding=(1, 1))\n",
      "  (25): ReLU(inplace=True)\n",
      "  (26): Conv2d(512, 512, kernel_size=(3, 3), stride=(1, 1), padding=(1, 1))\n",
      "  (27): ReLU(inplace=True)\n",
      "  (28): Conv2d(512, 512, kernel_size=(3, 3), stride=(1, 1), padding=(1, 1))\n",
      "  (29): ReLU(inplace=True)\n",
      "  (30): MaxPool2d(kernel_size=2, stride=2, padding=0, dilation=1, ceil_mode=False)\n",
      ")\n",
      "----------------------------------------------------------------\n",
      "        Layer (type)               Output Shape         Param #\n",
      "================================================================\n",
      "            Conv2d-1         [-1, 64, 224, 224]           1,792\n",
      "              ReLU-2         [-1, 64, 224, 224]               0\n",
      "            Conv2d-3         [-1, 64, 224, 224]          36,928\n",
      "              ReLU-4         [-1, 64, 224, 224]               0\n",
      "         MaxPool2d-5         [-1, 64, 112, 112]               0\n",
      "            Conv2d-6        [-1, 128, 112, 112]          73,856\n",
      "              ReLU-7        [-1, 128, 112, 112]               0\n",
      "            Conv2d-8        [-1, 128, 112, 112]         147,584\n",
      "              ReLU-9        [-1, 128, 112, 112]               0\n",
      "        MaxPool2d-10          [-1, 128, 56, 56]               0\n",
      "           Conv2d-11          [-1, 256, 56, 56]         295,168\n",
      "             ReLU-12          [-1, 256, 56, 56]               0\n",
      "           Conv2d-13          [-1, 256, 56, 56]         590,080\n",
      "             ReLU-14          [-1, 256, 56, 56]               0\n",
      "           Conv2d-15          [-1, 256, 56, 56]         590,080\n",
      "             ReLU-16          [-1, 256, 56, 56]               0\n",
      "        MaxPool2d-17          [-1, 256, 28, 28]               0\n",
      "           Conv2d-18          [-1, 512, 28, 28]       1,180,160\n",
      "             ReLU-19          [-1, 512, 28, 28]               0\n",
      "           Conv2d-20          [-1, 512, 28, 28]       2,359,808\n",
      "             ReLU-21          [-1, 512, 28, 28]               0\n",
      "           Conv2d-22          [-1, 512, 28, 28]       2,359,808\n",
      "             ReLU-23          [-1, 512, 28, 28]               0\n",
      "        MaxPool2d-24          [-1, 512, 14, 14]               0\n",
      "           Conv2d-25          [-1, 512, 14, 14]       2,359,808\n",
      "             ReLU-26          [-1, 512, 14, 14]               0\n",
      "           Conv2d-27          [-1, 512, 14, 14]       2,359,808\n",
      "             ReLU-28          [-1, 512, 14, 14]               0\n",
      "           Conv2d-29          [-1, 512, 14, 14]       2,359,808\n",
      "             ReLU-30          [-1, 512, 14, 14]               0\n",
      "        MaxPool2d-31            [-1, 512, 7, 7]               0\n",
      "================================================================\n",
      "Total params: 14,714,688\n",
      "Trainable params: 14,714,688\n",
      "Non-trainable params: 0\n",
      "----------------------------------------------------------------\n",
      "Input size (MB): 0.57\n",
      "Forward/backward pass size (MB): 218.39\n",
      "Params size (MB): 56.13\n",
      "Estimated Total Size (MB): 275.10\n",
      "----------------------------------------------------------------\n"
     ]
    }
   ],
   "source": [
    "from torchvision.models import VGG16_Weights ## 사전학습된 VGG16를 이용하기 위해 import\n",
    "\n",
    "## Classifier 부분은 제외하고 가져오기\n",
    "base_model = torchvision.models.vgg16(weights=VGG16_Weights.IMAGENET1K_V1).features\n",
    "\n",
    "print(base_model)\n",
    "summary_model(base_model, (3,224,224))## 모델 요약 정보 확인"
   ]
  },
  {
   "cell_type": "code",
   "execution_count": 8,
   "id": "ffabc2f2",
   "metadata": {
    "execution": {
     "iopub.execute_input": "2023-04-10T04:16:44.428760Z",
     "iopub.status.busy": "2023-04-10T04:16:44.427744Z",
     "iopub.status.idle": "2023-04-10T04:16:44.444366Z",
     "shell.execute_reply": "2023-04-10T04:16:44.442208Z"
    },
    "papermill": {
     "duration": 0.026143,
     "end_time": "2023-04-10T04:16:44.446689",
     "exception": false,
     "start_time": "2023-04-10T04:16:44.420546",
     "status": "completed"
    },
    "tags": []
   },
   "outputs": [
    {
     "name": "stdout",
     "output_type": "stream",
     "text": [
      "----------------------------------------------------------------\n",
      "        Layer (type)               Output Shape         Param #\n",
      "================================================================\n",
      "            Conv2d-1         [-1, 64, 224, 224]           1,792\n",
      "              ReLU-2         [-1, 64, 224, 224]               0\n",
      "            Conv2d-3         [-1, 64, 224, 224]          36,928\n",
      "              ReLU-4         [-1, 64, 224, 224]               0\n",
      "         MaxPool2d-5         [-1, 64, 112, 112]               0\n",
      "            Conv2d-6        [-1, 128, 112, 112]          73,856\n",
      "              ReLU-7        [-1, 128, 112, 112]               0\n",
      "            Conv2d-8        [-1, 128, 112, 112]         147,584\n",
      "              ReLU-9        [-1, 128, 112, 112]               0\n",
      "        MaxPool2d-10          [-1, 128, 56, 56]               0\n",
      "           Conv2d-11          [-1, 256, 56, 56]         295,168\n",
      "             ReLU-12          [-1, 256, 56, 56]               0\n",
      "           Conv2d-13          [-1, 256, 56, 56]         590,080\n",
      "             ReLU-14          [-1, 256, 56, 56]               0\n",
      "           Conv2d-15          [-1, 256, 56, 56]         590,080\n",
      "             ReLU-16          [-1, 256, 56, 56]               0\n",
      "        MaxPool2d-17          [-1, 256, 28, 28]               0\n",
      "           Conv2d-18          [-1, 512, 28, 28]       1,180,160\n",
      "             ReLU-19          [-1, 512, 28, 28]               0\n",
      "           Conv2d-20          [-1, 512, 28, 28]       2,359,808\n",
      "             ReLU-21          [-1, 512, 28, 28]               0\n",
      "           Conv2d-22          [-1, 512, 28, 28]       2,359,808\n",
      "             ReLU-23          [-1, 512, 28, 28]               0\n",
      "        MaxPool2d-24          [-1, 512, 14, 14]               0\n",
      "           Conv2d-25          [-1, 512, 14, 14]       2,359,808\n",
      "             ReLU-26          [-1, 512, 14, 14]               0\n",
      "           Conv2d-27          [-1, 512, 14, 14]       2,359,808\n",
      "             ReLU-28          [-1, 512, 14, 14]               0\n",
      "           Conv2d-29          [-1, 512, 14, 14]       2,359,808\n",
      "             ReLU-30          [-1, 512, 14, 14]               0\n",
      "        MaxPool2d-31            [-1, 512, 7, 7]               0\n",
      "================================================================\n",
      "Total params: 14,714,688\n",
      "Trainable params: 0\n",
      "Non-trainable params: 14,714,688\n",
      "----------------------------------------------------------------\n",
      "Input size (MB): 0.57\n",
      "Forward/backward pass size (MB): 218.39\n",
      "Params size (MB): 56.13\n",
      "Estimated Total Size (MB): 275.10\n",
      "----------------------------------------------------------------\n"
     ]
    }
   ],
   "source": [
    "## VGG16의 feature extractor의 파라미터 freeze\n",
    "for para in base_model.parameters():\n",
    "    para.requires_grad = False\n",
    "\n",
    "summary_model(base_model,(3,224,224))## 모델 요약 정보 확인"
   ]
  },
  {
   "cell_type": "code",
   "execution_count": 9,
   "id": "161e129c",
   "metadata": {
    "execution": {
     "iopub.execute_input": "2023-04-10T04:16:44.460479Z",
     "iopub.status.busy": "2023-04-10T04:16:44.460200Z",
     "iopub.status.idle": "2023-04-10T04:16:46.393280Z",
     "shell.execute_reply": "2023-04-10T04:16:46.392183Z"
    },
    "papermill": {
     "duration": 1.943865,
     "end_time": "2023-04-10T04:16:46.396926",
     "exception": false,
     "start_time": "2023-04-10T04:16:44.453061",
     "status": "completed"
    },
    "tags": []
   },
   "outputs": [
    {
     "name": "stdout",
     "output_type": "stream",
     "text": [
      "Sequential(\n",
      "  (0): Conv2d(3, 64, kernel_size=(3, 3), stride=(1, 1), padding=(1, 1))\n",
      "  (1): ReLU(inplace=True)\n",
      "  (2): Conv2d(64, 64, kernel_size=(3, 3), stride=(1, 1), padding=(1, 1))\n",
      "  (3): ReLU(inplace=True)\n",
      "  (4): MaxPool2d(kernel_size=2, stride=2, padding=0, dilation=1, ceil_mode=False)\n",
      "  (5): Conv2d(64, 128, kernel_size=(3, 3), stride=(1, 1), padding=(1, 1))\n",
      "  (6): ReLU(inplace=True)\n",
      "  (7): Conv2d(128, 128, kernel_size=(3, 3), stride=(1, 1), padding=(1, 1))\n",
      "  (8): ReLU(inplace=True)\n",
      "  (9): MaxPool2d(kernel_size=2, stride=2, padding=0, dilation=1, ceil_mode=False)\n",
      "  (10): Conv2d(128, 256, kernel_size=(3, 3), stride=(1, 1), padding=(1, 1))\n",
      "  (11): ReLU(inplace=True)\n",
      "  (12): Conv2d(256, 256, kernel_size=(3, 3), stride=(1, 1), padding=(1, 1))\n",
      "  (13): ReLU(inplace=True)\n",
      "  (14): Conv2d(256, 256, kernel_size=(3, 3), stride=(1, 1), padding=(1, 1))\n",
      "  (15): ReLU(inplace=True)\n",
      "  (16): MaxPool2d(kernel_size=2, stride=2, padding=0, dilation=1, ceil_mode=False)\n",
      "  (17): Conv2d(256, 512, kernel_size=(3, 3), stride=(1, 1), padding=(1, 1))\n",
      "  (18): ReLU(inplace=True)\n",
      "  (19): Conv2d(512, 512, kernel_size=(3, 3), stride=(1, 1), padding=(1, 1))\n",
      "  (20): ReLU(inplace=True)\n",
      "  (21): Conv2d(512, 512, kernel_size=(3, 3), stride=(1, 1), padding=(1, 1))\n",
      "  (22): ReLU(inplace=True)\n",
      "  (23): MaxPool2d(kernel_size=2, stride=2, padding=0, dilation=1, ceil_mode=False)\n",
      "  (24): Conv2d(512, 512, kernel_size=(3, 3), stride=(1, 1), padding=(1, 1))\n",
      "  (25): ReLU(inplace=True)\n",
      "  (26): Conv2d(512, 512, kernel_size=(3, 3), stride=(1, 1), padding=(1, 1))\n",
      "  (27): ReLU(inplace=True)\n",
      "  (28): Conv2d(512, 512, kernel_size=(3, 3), stride=(1, 1), padding=(1, 1))\n",
      "  (29): ReLU(inplace=True)\n",
      "  (30): MaxPool2d(kernel_size=2, stride=2, padding=0, dilation=1, ceil_mode=False)\n",
      "  (classifier): Sequential(\n",
      "    (0): Flatten(start_dim=1, end_dim=-1)\n",
      "    (1): Linear(in_features=25088, out_features=64, bias=True)\n",
      "    (2): BatchNorm1d(64, eps=1e-05, momentum=0.1, affine=True, track_running_stats=True)\n",
      "    (3): Dropout(p=0.5, inplace=False)\n",
      "    (4): Linear(in_features=64, out_features=2, bias=True)\n",
      "  )\n",
      ")\n",
      "----------------------------------------------------------------\n",
      "        Layer (type)               Output Shape         Param #\n",
      "================================================================\n",
      "            Conv2d-1         [-1, 64, 224, 224]           1,792\n",
      "              ReLU-2         [-1, 64, 224, 224]               0\n",
      "            Conv2d-3         [-1, 64, 224, 224]          36,928\n",
      "              ReLU-4         [-1, 64, 224, 224]               0\n",
      "         MaxPool2d-5         [-1, 64, 112, 112]               0\n",
      "            Conv2d-6        [-1, 128, 112, 112]          73,856\n",
      "              ReLU-7        [-1, 128, 112, 112]               0\n",
      "            Conv2d-8        [-1, 128, 112, 112]         147,584\n",
      "              ReLU-9        [-1, 128, 112, 112]               0\n",
      "        MaxPool2d-10          [-1, 128, 56, 56]               0\n",
      "           Conv2d-11          [-1, 256, 56, 56]         295,168\n",
      "             ReLU-12          [-1, 256, 56, 56]               0\n",
      "           Conv2d-13          [-1, 256, 56, 56]         590,080\n",
      "             ReLU-14          [-1, 256, 56, 56]               0\n",
      "           Conv2d-15          [-1, 256, 56, 56]         590,080\n",
      "             ReLU-16          [-1, 256, 56, 56]               0\n",
      "        MaxPool2d-17          [-1, 256, 28, 28]               0\n",
      "           Conv2d-18          [-1, 512, 28, 28]       1,180,160\n",
      "             ReLU-19          [-1, 512, 28, 28]               0\n",
      "           Conv2d-20          [-1, 512, 28, 28]       2,359,808\n",
      "             ReLU-21          [-1, 512, 28, 28]               0\n",
      "           Conv2d-22          [-1, 512, 28, 28]       2,359,808\n",
      "             ReLU-23          [-1, 512, 28, 28]               0\n",
      "        MaxPool2d-24          [-1, 512, 14, 14]               0\n",
      "           Conv2d-25          [-1, 512, 14, 14]       2,359,808\n",
      "             ReLU-26          [-1, 512, 14, 14]               0\n",
      "           Conv2d-27          [-1, 512, 14, 14]       2,359,808\n",
      "             ReLU-28          [-1, 512, 14, 14]               0\n",
      "           Conv2d-29          [-1, 512, 14, 14]       2,359,808\n",
      "             ReLU-30          [-1, 512, 14, 14]               0\n",
      "        MaxPool2d-31            [-1, 512, 7, 7]               0\n",
      "          Flatten-32                [-1, 25088]               0\n",
      "           Linear-33                   [-1, 64]       1,605,696\n",
      "      BatchNorm1d-34                   [-1, 64]             128\n",
      "          Dropout-35                   [-1, 64]               0\n",
      "           Linear-36                    [-1, 2]             130\n",
      "================================================================\n",
      "Total params: 16,320,642\n",
      "Trainable params: 1,605,954\n",
      "Non-trainable params: 14,714,688\n",
      "----------------------------------------------------------------\n",
      "Input size (MB): 0.57\n",
      "Forward/backward pass size (MB): 218.59\n",
      "Params size (MB): 62.26\n",
      "Estimated Total Size (MB): 281.42\n",
      "----------------------------------------------------------------\n"
     ]
    }
   ],
   "source": [
    "## Classifier 만들기\n",
    "classifier = nn.Sequential(\n",
    "    nn.Flatten(),\n",
    "    nn.Linear(512*7*7,64), ## 512, 7, 7\n",
    "    nn.BatchNorm1d(64),\n",
    "    nn.Dropout(0.5),\n",
    "    nn.Linear(64,2), ## 512, 7, 7\n",
    "#     nn.Softmax() ## CrossEntropy에 Softmax가 포함되므로 사용하지 않음\n",
    ")\n",
    "\n",
    "base_model.classifier = classifier ## 모델에 classifier라는 이름으로 추가\n",
    "print(base_model)\n",
    "summary_model(base_model, (3,224,224))## 모델 요약 정보 확인"
   ]
  },
  {
   "cell_type": "code",
   "execution_count": 10,
   "id": "28f40126",
   "metadata": {
    "execution": {
     "iopub.execute_input": "2023-04-10T04:16:46.412030Z",
     "iopub.status.busy": "2023-04-10T04:16:46.411185Z",
     "iopub.status.idle": "2023-04-10T04:17:52.728094Z",
     "shell.execute_reply": "2023-04-10T04:17:52.726916Z"
    },
    "papermill": {
     "duration": 66.326624,
     "end_time": "2023-04-10T04:17:52.730270",
     "exception": false,
     "start_time": "2023-04-10T04:16:46.403646",
     "status": "completed"
    },
    "tags": []
   },
   "outputs": [
    {
     "name": "stdout",
     "output_type": "stream",
     "text": [
      "Epoch 0/20\n",
      "Epoch 00000: val_loss improved from 100.00000 to 0.11222, saving model to bestCheckPiont_resnet50.pth\n",
      "4s - loss: 0.32379 - acc: 0.84158 - val_loss: 0.11222 - val_acc: 0.98058\n",
      "Epoch 1/20\n",
      "Epoch 00001: val_loss improved from 0.11222 to 0.09865, saving model to bestCheckPiont_resnet50.pth\n",
      "3s - loss: 0.09327 - acc: 0.99010 - val_loss: 0.09865 - val_acc: 0.98058\n",
      "Epoch 2/20\n",
      "Epoch 00002: val_loss did not improve\n",
      "3s - loss: 0.04795 - acc: 1.00000 - val_loss: 0.10738 - val_acc: 0.96117\n",
      "Epoch 3/20\n",
      "Epoch 00003: val_loss did not improve\n",
      "3s - loss: 0.05526 - acc: 1.00000 - val_loss: 0.10990 - val_acc: 0.96117\n",
      "Epoch 4/20\n",
      "Epoch 00004: val_loss did not improve\n",
      "3s - loss: 0.04185 - acc: 1.00000 - val_loss: 0.11112 - val_acc: 0.97087\n",
      "Epoch 5/20\n",
      "Epoch 00005: val_loss did not improve\n",
      "3s - loss: 0.04459 - acc: 1.00000 - val_loss: 0.11282 - val_acc: 0.96117\n",
      "Epoch 6/20\n",
      "Epoch 00006: val_loss did not improve\n",
      "3s - loss: 0.04017 - acc: 1.00000 - val_loss: 0.11569 - val_acc: 0.95146\n",
      "Epoch 7/20\n",
      "Epoch 00007: val_loss did not improve\n",
      "3s - loss: 0.03313 - acc: 1.00000 - val_loss: 0.11620 - val_acc: 0.95146\n",
      "Epoch 8/20\n",
      "Epoch 00008: val_loss did not improve\n",
      "3s - loss: 0.02313 - acc: 1.00000 - val_loss: 0.12023 - val_acc: 0.95146\n",
      "Epoch 9/20\n",
      "Epoch 00009: val_loss did not improve\n",
      "3s - loss: 0.02167 - acc: 1.00000 - val_loss: 0.11854 - val_acc: 0.95146\n",
      "Epoch 10/20\n",
      "Epoch 00010: val_loss did not improve\n",
      "3s - loss: 0.01846 - acc: 1.00000 - val_loss: 0.12107 - val_acc: 0.95146\n",
      "Epoch 11/20\n",
      "Epoch 00011: val_loss did not improve\n",
      "3s - loss: 0.01832 - acc: 1.00000 - val_loss: 0.11906 - val_acc: 0.95146\n",
      "Epoch 12/20\n",
      "Epoch 00012: val_loss did not improve\n",
      "3s - loss: 0.01965 - acc: 1.00000 - val_loss: 0.12316 - val_acc: 0.95146\n",
      "Epoch 13/20\n",
      "Epoch 00013: val_loss did not improve\n",
      "3s - loss: 0.02009 - acc: 1.00000 - val_loss: 0.12431 - val_acc: 0.95146\n",
      "Epoch 14/20\n",
      "Epoch 00014: val_loss did not improve\n",
      "3s - loss: 0.01371 - acc: 1.00000 - val_loss: 0.12164 - val_acc: 0.95146\n",
      "Epoch 15/20\n",
      "Epoch 00015: val_loss did not improve\n",
      "3s - loss: 0.01333 - acc: 1.00000 - val_loss: 0.12148 - val_acc: 0.95146\n",
      "Epoch 16/20\n",
      "Epoch 00016: val_loss did not improve\n",
      "3s - loss: 0.01906 - acc: 1.00000 - val_loss: 0.11424 - val_acc: 0.95146\n",
      "Epoch 17/20\n",
      "Epoch 00017: val_loss did not improve\n",
      "3s - loss: 0.01319 - acc: 1.00000 - val_loss: 0.11435 - val_acc: 0.95146\n",
      "Epoch 18/20\n",
      "Epoch 00018: val_loss did not improve\n",
      "3s - loss: 0.01140 - acc: 1.00000 - val_loss: 0.11408 - val_acc: 0.95146\n",
      "Epoch 19/20\n",
      "Epoch 00019: val_loss did not improve\n",
      "3s - loss: 0.00952 - acc: 1.00000 - val_loss: 0.11317 - val_acc: 0.95146\n"
     ]
    }
   ],
   "source": [
    "# 모델 학습하기\n",
    "import time\n",
    "\n",
    "# 파라미터 설정\n",
    "total_epoch = 20\n",
    "best_loss = 100 ## loss를 기준으로 best_checkpoint를 저장하기 위해 100으로 설정하였음.\n",
    "\n",
    "lr_rate = 0.0001\n",
    "optimizer = torch.optim.Adam(base_model.parameters(), lr=lr_rate)## Adma을 최적화 함수로 이용함. 파라미터는 documentation을 참조!\n",
    "\n",
    "loss = torch.nn.CrossEntropyLoss().cuda()## 분류문제이므로 CrossEntropyLoss를 이용함\n",
    "\n",
    "## 모델 시각화를 위해 정확도를 저장할 리스트 생성\n",
    "train_accuracys=[]\n",
    "eval_accuracys=[]\n",
    "\n",
    "for epoch in range(total_epoch):\n",
    "    start = time.time()\n",
    "    print(f'Epoch {epoch}/{total_epoch}')\n",
    "\n",
    "    # train\n",
    "    train_loss = 0\n",
    "    correct = 0\n",
    "    for x, target in trainloader:## 한번에 배치사이즈만큼 데이터를 불러와 모델을 학습함\n",
    "\n",
    "        optimizer.zero_grad()## 이전 loss를 누적하지 않기 위해 0으로 설정해주는 과정\n",
    "        \n",
    "        y_pred = base_model(x.cuda())## 모델의 출력값\n",
    "        \n",
    "        cost = loss(y_pred, target.cuda())## loss 함수를 이용하여 오차를 계산함\n",
    "\n",
    "        cost.backward() # gradient 구하기 \n",
    "        optimizer.step()# 모델 학습\n",
    "        train_loss += cost.item()\n",
    "        \n",
    "        pred = y_pred.data.max(1, keepdim=True)[1] ## 각 클래스의 확률 값 중 가장 큰 값을 가지는 클래스의 인덱스를 pred 변수로 받음\n",
    "        correct += pred.cpu().eq(target.data.view_as(pred)).sum() # pred와 target을 비교하여 맞은 개수를 구하는 과정.\n",
    "                                                                  # view_as함수는 들어가는 인수의 모양으로 맞춰주고, .eq()를 통해 pred와 target의 값이 동일한지 판단하여 True 개수 구하기\n",
    "    \n",
    "    train_loss /= len(trainloader)\n",
    "        \n",
    "    train_accuracy = correct / len(trainloader.dataset)\n",
    "    train_accuracys.append(train_accuracy) ## 그래프로 표현하기 위해 리스트에 담음\n",
    "\n",
    "    \n",
    "    #Evaluate\n",
    "    eval_loss = 0\n",
    "    correct = 0\n",
    "    with torch.no_grad(): ## 학습하지 않기 위해\n",
    "        base_model.eval()# 평가 모드로 변경\n",
    "        for x, target in validloader:\n",
    "            y_pred = base_model(x.cuda())## 모델의 출력값\n",
    "            cost = loss(y_pred, target.cuda())## loss 함수를 이용하여 valid 데이터의 오차를 계산함\n",
    "            eval_loss += cost\n",
    "            \n",
    "            pred = y_pred.data.max(1, keepdim=True)[1]## 각 클래스의 확률 값 중 가장 큰 값을 가지는 클래스의 인덱스를 pred 변수로 받음\n",
    "            correct += pred.cpu().eq(target.data.view_as(pred)).cpu().sum()# pred와 target을 비교하여 맞은 개수를 구하는 과정\n",
    "            \n",
    "        eval_loss /= len(validloader)\n",
    "        eval_accuracy = correct / len(validloader.dataset)\n",
    "        eval_accuracys.append(eval_accuracy)## 그래프로 표현하기 위해 리스트에 담음\n",
    "        \n",
    "        ## valid 데이터의 loss를 기준으로 이전 loss 보다 작을 경우 체크포인트 저장\n",
    "        if eval_loss < best_loss:\n",
    "            torch.save({\n",
    "                'epoch': epoch,\n",
    "                'model': base_model,\n",
    "                'model_state_dict': base_model.state_dict(),\n",
    "                'optimizer_state_dict': optimizer.state_dict(),\n",
    "                'loss': cost.item,\n",
    "                }, './bestCheckPoint.pth')\n",
    "            \n",
    "            print(f'Epoch {epoch:05d}: val_loss improved from {best_loss:.5f} to {eval_loss:.5f}, saving model to bestCheckPiont_resnet50.pth')\n",
    "            best_loss = eval_loss\n",
    "        else:\n",
    "            print(f'Epoch {epoch:05d}: val_loss did not improve')\n",
    "        base_model.train()\n",
    "        \n",
    "    print(f'{int(time.time() - start)}s - loss: {train_loss:.5f} - acc: {train_accuracy:.5f} - val_loss: {eval_loss:.5f} - val_acc: {eval_accuracy:.5f}')"
   ]
  },
  {
   "cell_type": "code",
   "execution_count": 11,
   "id": "8e44f579",
   "metadata": {
    "execution": {
     "iopub.execute_input": "2023-04-10T04:17:52.747098Z",
     "iopub.status.busy": "2023-04-10T04:17:52.746793Z",
     "iopub.status.idle": "2023-04-10T04:17:52.875184Z",
     "shell.execute_reply": "2023-04-10T04:17:52.874210Z"
    },
    "papermill": {
     "duration": 0.139312,
     "end_time": "2023-04-10T04:17:52.877380",
     "exception": false,
     "start_time": "2023-04-10T04:17:52.738068",
     "status": "completed"
    },
    "tags": []
   },
   "outputs": [
    {
     "data": {
      "text/plain": [
       "<All keys matched successfully>"
      ]
     },
     "execution_count": 11,
     "metadata": {},
     "output_type": "execute_result"
    }
   ],
   "source": [
    "## 저장되어있는 best 체크포인트 load하기\n",
    "best_model = torch.load('./bestCheckPoint.pth')['model']  # 전체 모델을 통째로 불러옴, 클래스 선언 필수\n",
    "best_model.load_state_dict(torch.load('./bestCheckPoint.pth')['model_state_dict'])  # state_dict를 불러 온 후, 모델에 저장"
   ]
  },
  {
   "cell_type": "code",
   "execution_count": 12,
   "id": "ff526d02",
   "metadata": {
    "execution": {
     "iopub.execute_input": "2023-04-10T04:17:52.894220Z",
     "iopub.status.busy": "2023-04-10T04:17:52.893896Z",
     "iopub.status.idle": "2023-04-10T04:18:00.068570Z",
     "shell.execute_reply": "2023-04-10T04:18:00.067217Z"
    },
    "papermill": {
     "duration": 7.185814,
     "end_time": "2023-04-10T04:18:00.071032",
     "exception": false,
     "start_time": "2023-04-10T04:17:52.885218",
     "status": "completed"
    },
    "tags": []
   },
   "outputs": [
    {
     "name": "stdout",
     "output_type": "stream",
     "text": [
      "Accuracy of the network on the 10000 test images: 97 %\n"
     ]
    }
   ],
   "source": [
    "#prediction\n",
    "\n",
    "correct = 0\n",
    "total = 0\n",
    "pred_=[]\n",
    "\n",
    "with torch.no_grad(): ## 학습하지 않기 위해\n",
    "    best_model.eval()\n",
    "    for data, label in testloader:\n",
    "        outputs = best_model(data.cuda())\n",
    "        _, predicted = torch.max(outputs.data, 1)\n",
    "        pred_.append(predicted.cpu().item()) ## 제출을 위해 예측값을 pred_로 받아줌\n",
    "        total += label.size(0)\n",
    "        correct += (predicted == label.cuda()).sum().item()\n",
    "        \n",
    "print('Accuracy of the network on the 10000 test images: %d %%' % (100 * correct / total))"
   ]
  },
  {
   "cell_type": "markdown",
   "id": "0bf5e21c",
   "metadata": {
    "papermill": {
     "duration": 0.007452,
     "end_time": "2023-04-10T04:18:00.086580",
     "exception": false,
     "start_time": "2023-04-10T04:18:00.079128",
     "status": "completed"
    },
    "tags": []
   },
   "source": [
    "### The End"
   ]
  },
  {
   "cell_type": "code",
   "execution_count": 13,
   "id": "769e26c1",
   "metadata": {
    "execution": {
     "iopub.execute_input": "2023-04-10T04:18:00.102909Z",
     "iopub.status.busy": "2023-04-10T04:18:00.102600Z",
     "iopub.status.idle": "2023-04-10T04:18:00.125214Z",
     "shell.execute_reply": "2023-04-10T04:18:00.124099Z"
    },
    "papermill": {
     "duration": 0.033156,
     "end_time": "2023-04-10T04:18:00.127237",
     "exception": false,
     "start_time": "2023-04-10T04:18:00.094081",
     "status": "completed"
    },
    "tags": []
   },
   "outputs": [
    {
     "data": {
      "text/html": [
       "<div>\n",
       "<style scoped>\n",
       "    .dataframe tbody tr th:only-of-type {\n",
       "        vertical-align: middle;\n",
       "    }\n",
       "\n",
       "    .dataframe tbody tr th {\n",
       "        vertical-align: top;\n",
       "    }\n",
       "\n",
       "    .dataframe thead th {\n",
       "        text-align: right;\n",
       "    }\n",
       "</style>\n",
       "<table border=\"1\" class=\"dataframe\">\n",
       "  <thead>\n",
       "    <tr style=\"text-align: right;\">\n",
       "      <th></th>\n",
       "      <th>ID</th>\n",
       "      <th>label</th>\n",
       "    </tr>\n",
       "  </thead>\n",
       "  <tbody>\n",
       "    <tr>\n",
       "      <th>0</th>\n",
       "      <td>12250</td>\n",
       "      <td>0</td>\n",
       "    </tr>\n",
       "    <tr>\n",
       "      <th>1</th>\n",
       "      <td>12251</td>\n",
       "      <td>0</td>\n",
       "    </tr>\n",
       "    <tr>\n",
       "      <th>2</th>\n",
       "      <td>12252</td>\n",
       "      <td>0</td>\n",
       "    </tr>\n",
       "    <tr>\n",
       "      <th>3</th>\n",
       "      <td>12253</td>\n",
       "      <td>0</td>\n",
       "    </tr>\n",
       "    <tr>\n",
       "      <th>4</th>\n",
       "      <td>12254</td>\n",
       "      <td>0</td>\n",
       "    </tr>\n",
       "  </tbody>\n",
       "</table>\n",
       "</div>"
      ],
      "text/plain": [
       "      ID  label\n",
       "0  12250      0\n",
       "1  12251      0\n",
       "2  12252      0\n",
       "3  12253      0\n",
       "4  12254      0"
      ]
     },
     "execution_count": 13,
     "metadata": {},
     "output_type": "execute_result"
    }
   ],
   "source": [
    "## pandas를 이용하여 sample.csv 파일 읽기\n",
    "import pandas as pd\n",
    "\n",
    "sample = pd.read_csv(\"/kaggle/input/2023-1-DLS-W6-P1/sample.csv\")\n",
    "sample.head()"
   ]
  },
  {
   "cell_type": "code",
   "execution_count": 14,
   "id": "1ddd7cb2",
   "metadata": {
    "execution": {
     "iopub.execute_input": "2023-04-10T04:18:00.144628Z",
     "iopub.status.busy": "2023-04-10T04:18:00.143789Z",
     "iopub.status.idle": "2023-04-10T04:18:00.774570Z",
     "shell.execute_reply": "2023-04-10T04:18:00.773570Z"
    },
    "papermill": {
     "duration": 0.64231,
     "end_time": "2023-04-10T04:18:00.777336",
     "exception": false,
     "start_time": "2023-04-10T04:18:00.135026",
     "status": "completed"
    },
    "tags": []
   },
   "outputs": [],
   "source": [
    "for i, info in enumerate(testloader.dataset.imgs):\n",
    "    path = info[0]\n",
    "    id = (path.split(\"/\")[-1]).split(\".\")[-2] ## test 이미지의 ID를 찾는 방법 \n",
    "    sample['label'][sample['ID']== int(id)]= pred_[i] ## sample의 ID에 맞추어 예측값 넣기"
   ]
  },
  {
   "cell_type": "code",
   "execution_count": 15,
   "id": "37647752",
   "metadata": {
    "execution": {
     "iopub.execute_input": "2023-04-10T04:18:00.795695Z",
     "iopub.status.busy": "2023-04-10T04:18:00.795380Z",
     "iopub.status.idle": "2023-04-10T04:18:00.802471Z",
     "shell.execute_reply": "2023-04-10T04:18:00.801591Z"
    },
    "papermill": {
     "duration": 0.018461,
     "end_time": "2023-04-10T04:18:00.804549",
     "exception": false,
     "start_time": "2023-04-10T04:18:00.786088",
     "status": "completed"
    },
    "tags": []
   },
   "outputs": [],
   "source": [
    "## csv 파일로 저장\n",
    "sample.to_csv(\"baseline.csv\",index=False,header=True)"
   ]
  },
  {
   "cell_type": "code",
   "execution_count": 16,
   "id": "ddefaa7b",
   "metadata": {
    "execution": {
     "iopub.execute_input": "2023-04-10T04:18:00.822116Z",
     "iopub.status.busy": "2023-04-10T04:18:00.821838Z",
     "iopub.status.idle": "2023-04-10T04:18:00.832475Z",
     "shell.execute_reply": "2023-04-10T04:18:00.831488Z"
    },
    "papermill": {
     "duration": 0.022091,
     "end_time": "2023-04-10T04:18:00.834439",
     "exception": false,
     "start_time": "2023-04-10T04:18:00.812348",
     "status": "completed"
    },
    "tags": []
   },
   "outputs": [
    {
     "data": {
      "text/html": [
       "<div>\n",
       "<style scoped>\n",
       "    .dataframe tbody tr th:only-of-type {\n",
       "        vertical-align: middle;\n",
       "    }\n",
       "\n",
       "    .dataframe tbody tr th {\n",
       "        vertical-align: top;\n",
       "    }\n",
       "\n",
       "    .dataframe thead th {\n",
       "        text-align: right;\n",
       "    }\n",
       "</style>\n",
       "<table border=\"1\" class=\"dataframe\">\n",
       "  <thead>\n",
       "    <tr style=\"text-align: right;\">\n",
       "      <th></th>\n",
       "      <th>ID</th>\n",
       "      <th>label</th>\n",
       "    </tr>\n",
       "  </thead>\n",
       "  <tbody>\n",
       "    <tr>\n",
       "      <th>0</th>\n",
       "      <td>12250</td>\n",
       "      <td>0</td>\n",
       "    </tr>\n",
       "    <tr>\n",
       "      <th>1</th>\n",
       "      <td>12251</td>\n",
       "      <td>0</td>\n",
       "    </tr>\n",
       "    <tr>\n",
       "      <th>2</th>\n",
       "      <td>12252</td>\n",
       "      <td>0</td>\n",
       "    </tr>\n",
       "    <tr>\n",
       "      <th>3</th>\n",
       "      <td>12253</td>\n",
       "      <td>0</td>\n",
       "    </tr>\n",
       "    <tr>\n",
       "      <th>4</th>\n",
       "      <td>12254</td>\n",
       "      <td>0</td>\n",
       "    </tr>\n",
       "    <tr>\n",
       "      <th>...</th>\n",
       "      <td>...</td>\n",
       "      <td>...</td>\n",
       "    </tr>\n",
       "    <tr>\n",
       "      <th>446</th>\n",
       "      <td>12196</td>\n",
       "      <td>1</td>\n",
       "    </tr>\n",
       "    <tr>\n",
       "      <th>447</th>\n",
       "      <td>12197</td>\n",
       "      <td>1</td>\n",
       "    </tr>\n",
       "    <tr>\n",
       "      <th>448</th>\n",
       "      <td>12198</td>\n",
       "      <td>1</td>\n",
       "    </tr>\n",
       "    <tr>\n",
       "      <th>449</th>\n",
       "      <td>12199</td>\n",
       "      <td>1</td>\n",
       "    </tr>\n",
       "    <tr>\n",
       "      <th>450</th>\n",
       "      <td>12200</td>\n",
       "      <td>1</td>\n",
       "    </tr>\n",
       "  </tbody>\n",
       "</table>\n",
       "<p>451 rows × 2 columns</p>\n",
       "</div>"
      ],
      "text/plain": [
       "        ID  label\n",
       "0    12250      0\n",
       "1    12251      0\n",
       "2    12252      0\n",
       "3    12253      0\n",
       "4    12254      0\n",
       "..     ...    ...\n",
       "446  12196      1\n",
       "447  12197      1\n",
       "448  12198      1\n",
       "449  12199      1\n",
       "450  12200      1\n",
       "\n",
       "[451 rows x 2 columns]"
      ]
     },
     "execution_count": 16,
     "metadata": {},
     "output_type": "execute_result"
    }
   ],
   "source": [
    "sample"
   ]
  }
 ],
 "metadata": {
  "kernelspec": {
   "display_name": "Python 3",
   "language": "python",
   "name": "python3"
  },
  "language_info": {
   "codemirror_mode": {
    "name": "ipython",
    "version": 3
   },
   "file_extension": ".py",
   "mimetype": "text/x-python",
   "name": "python",
   "nbconvert_exporter": "python",
   "pygments_lexer": "ipython3",
   "version": "3.7.12"
  },
  "papermill": {
   "default_parameters": {},
   "duration": 109.718265,
   "end_time": "2023-04-10T04:18:02.482626",
   "environment_variables": {},
   "exception": null,
   "input_path": "__notebook__.ipynb",
   "output_path": "__notebook__.ipynb",
   "parameters": {},
   "start_time": "2023-04-10T04:16:12.764361",
   "version": "2.4.0"
  },
  "widgets": {
   "application/vnd.jupyter.widget-state+json": {
    "state": {
     "109bb9f400ea4fb4bb9e77a9139f8386": {
      "model_module": "@jupyter-widgets/controls",
      "model_module_version": "1.5.0",
      "model_name": "ProgressStyleModel",
      "state": {
       "_model_module": "@jupyter-widgets/controls",
       "_model_module_version": "1.5.0",
       "_model_name": "ProgressStyleModel",
       "_view_count": null,
       "_view_module": "@jupyter-widgets/base",
       "_view_module_version": "1.2.0",
       "_view_name": "StyleView",
       "bar_color": null,
       "description_width": ""
      }
     },
     "372c6c6482d64a7aae55a3d91d88535a": {
      "model_module": "@jupyter-widgets/controls",
      "model_module_version": "1.5.0",
      "model_name": "DescriptionStyleModel",
      "state": {
       "_model_module": "@jupyter-widgets/controls",
       "_model_module_version": "1.5.0",
       "_model_name": "DescriptionStyleModel",
       "_view_count": null,
       "_view_module": "@jupyter-widgets/base",
       "_view_module_version": "1.2.0",
       "_view_name": "StyleView",
       "description_width": ""
      }
     },
     "3d96eccaa1b846658422f8f9b0df1de8": {
      "model_module": "@jupyter-widgets/controls",
      "model_module_version": "1.5.0",
      "model_name": "HBoxModel",
      "state": {
       "_dom_classes": [],
       "_model_module": "@jupyter-widgets/controls",
       "_model_module_version": "1.5.0",
       "_model_name": "HBoxModel",
       "_view_count": null,
       "_view_module": "@jupyter-widgets/controls",
       "_view_module_version": "1.5.0",
       "_view_name": "HBoxView",
       "box_style": "",
       "children": [
        "IPY_MODEL_e695017c70e5497c8e74609c1efc3b4d",
        "IPY_MODEL_865421212d6f4eca924cb796ec2d5744",
        "IPY_MODEL_d9376fd4ce274729b1e53d1a2544b762"
       ],
       "layout": "IPY_MODEL_7c343335504b4444af9871d1b12a8fea"
      }
     },
     "4b852ab8f56a45b0b0d3e586282a8d1d": {
      "model_module": "@jupyter-widgets/base",
      "model_module_version": "1.2.0",
      "model_name": "LayoutModel",
      "state": {
       "_model_module": "@jupyter-widgets/base",
       "_model_module_version": "1.2.0",
       "_model_name": "LayoutModel",
       "_view_count": null,
       "_view_module": "@jupyter-widgets/base",
       "_view_module_version": "1.2.0",
       "_view_name": "LayoutView",
       "align_content": null,
       "align_items": null,
       "align_self": null,
       "border": null,
       "bottom": null,
       "display": null,
       "flex": null,
       "flex_flow": null,
       "grid_area": null,
       "grid_auto_columns": null,
       "grid_auto_flow": null,
       "grid_auto_rows": null,
       "grid_column": null,
       "grid_gap": null,
       "grid_row": null,
       "grid_template_areas": null,
       "grid_template_columns": null,
       "grid_template_rows": null,
       "height": null,
       "justify_content": null,
       "justify_items": null,
       "left": null,
       "margin": null,
       "max_height": null,
       "max_width": null,
       "min_height": null,
       "min_width": null,
       "object_fit": null,
       "object_position": null,
       "order": null,
       "overflow": null,
       "overflow_x": null,
       "overflow_y": null,
       "padding": null,
       "right": null,
       "top": null,
       "visibility": null,
       "width": null
      }
     },
     "53d46b445a764bb0bba76abee2f14359": {
      "model_module": "@jupyter-widgets/controls",
      "model_module_version": "1.5.0",
      "model_name": "DescriptionStyleModel",
      "state": {
       "_model_module": "@jupyter-widgets/controls",
       "_model_module_version": "1.5.0",
       "_model_name": "DescriptionStyleModel",
       "_view_count": null,
       "_view_module": "@jupyter-widgets/base",
       "_view_module_version": "1.2.0",
       "_view_name": "StyleView",
       "description_width": ""
      }
     },
     "7c343335504b4444af9871d1b12a8fea": {
      "model_module": "@jupyter-widgets/base",
      "model_module_version": "1.2.0",
      "model_name": "LayoutModel",
      "state": {
       "_model_module": "@jupyter-widgets/base",
       "_model_module_version": "1.2.0",
       "_model_name": "LayoutModel",
       "_view_count": null,
       "_view_module": "@jupyter-widgets/base",
       "_view_module_version": "1.2.0",
       "_view_name": "LayoutView",
       "align_content": null,
       "align_items": null,
       "align_self": null,
       "border": null,
       "bottom": null,
       "display": null,
       "flex": null,
       "flex_flow": null,
       "grid_area": null,
       "grid_auto_columns": null,
       "grid_auto_flow": null,
       "grid_auto_rows": null,
       "grid_column": null,
       "grid_gap": null,
       "grid_row": null,
       "grid_template_areas": null,
       "grid_template_columns": null,
       "grid_template_rows": null,
       "height": null,
       "justify_content": null,
       "justify_items": null,
       "left": null,
       "margin": null,
       "max_height": null,
       "max_width": null,
       "min_height": null,
       "min_width": null,
       "object_fit": null,
       "object_position": null,
       "order": null,
       "overflow": null,
       "overflow_x": null,
       "overflow_y": null,
       "padding": null,
       "right": null,
       "top": null,
       "visibility": null,
       "width": null
      }
     },
     "865421212d6f4eca924cb796ec2d5744": {
      "model_module": "@jupyter-widgets/controls",
      "model_module_version": "1.5.0",
      "model_name": "FloatProgressModel",
      "state": {
       "_dom_classes": [],
       "_model_module": "@jupyter-widgets/controls",
       "_model_module_version": "1.5.0",
       "_model_name": "FloatProgressModel",
       "_view_count": null,
       "_view_module": "@jupyter-widgets/controls",
       "_view_module_version": "1.5.0",
       "_view_name": "ProgressView",
       "bar_style": "success",
       "description": "",
       "description_tooltip": null,
       "layout": "IPY_MODEL_cf0ed6d71e1145ab980390a542d79dab",
       "max": 553433881,
       "min": 0,
       "orientation": "horizontal",
       "style": "IPY_MODEL_109bb9f400ea4fb4bb9e77a9139f8386",
       "value": 553433881
      }
     },
     "cf0ed6d71e1145ab980390a542d79dab": {
      "model_module": "@jupyter-widgets/base",
      "model_module_version": "1.2.0",
      "model_name": "LayoutModel",
      "state": {
       "_model_module": "@jupyter-widgets/base",
       "_model_module_version": "1.2.0",
       "_model_name": "LayoutModel",
       "_view_count": null,
       "_view_module": "@jupyter-widgets/base",
       "_view_module_version": "1.2.0",
       "_view_name": "LayoutView",
       "align_content": null,
       "align_items": null,
       "align_self": null,
       "border": null,
       "bottom": null,
       "display": null,
       "flex": null,
       "flex_flow": null,
       "grid_area": null,
       "grid_auto_columns": null,
       "grid_auto_flow": null,
       "grid_auto_rows": null,
       "grid_column": null,
       "grid_gap": null,
       "grid_row": null,
       "grid_template_areas": null,
       "grid_template_columns": null,
       "grid_template_rows": null,
       "height": null,
       "justify_content": null,
       "justify_items": null,
       "left": null,
       "margin": null,
       "max_height": null,
       "max_width": null,
       "min_height": null,
       "min_width": null,
       "object_fit": null,
       "object_position": null,
       "order": null,
       "overflow": null,
       "overflow_x": null,
       "overflow_y": null,
       "padding": null,
       "right": null,
       "top": null,
       "visibility": null,
       "width": null
      }
     },
     "d6fdbea8923f4cb48608f6b7c1d2b8df": {
      "model_module": "@jupyter-widgets/base",
      "model_module_version": "1.2.0",
      "model_name": "LayoutModel",
      "state": {
       "_model_module": "@jupyter-widgets/base",
       "_model_module_version": "1.2.0",
       "_model_name": "LayoutModel",
       "_view_count": null,
       "_view_module": "@jupyter-widgets/base",
       "_view_module_version": "1.2.0",
       "_view_name": "LayoutView",
       "align_content": null,
       "align_items": null,
       "align_self": null,
       "border": null,
       "bottom": null,
       "display": null,
       "flex": null,
       "flex_flow": null,
       "grid_area": null,
       "grid_auto_columns": null,
       "grid_auto_flow": null,
       "grid_auto_rows": null,
       "grid_column": null,
       "grid_gap": null,
       "grid_row": null,
       "grid_template_areas": null,
       "grid_template_columns": null,
       "grid_template_rows": null,
       "height": null,
       "justify_content": null,
       "justify_items": null,
       "left": null,
       "margin": null,
       "max_height": null,
       "max_width": null,
       "min_height": null,
       "min_width": null,
       "object_fit": null,
       "object_position": null,
       "order": null,
       "overflow": null,
       "overflow_x": null,
       "overflow_y": null,
       "padding": null,
       "right": null,
       "top": null,
       "visibility": null,
       "width": null
      }
     },
     "d9376fd4ce274729b1e53d1a2544b762": {
      "model_module": "@jupyter-widgets/controls",
      "model_module_version": "1.5.0",
      "model_name": "HTMLModel",
      "state": {
       "_dom_classes": [],
       "_model_module": "@jupyter-widgets/controls",
       "_model_module_version": "1.5.0",
       "_model_name": "HTMLModel",
       "_view_count": null,
       "_view_module": "@jupyter-widgets/controls",
       "_view_module_version": "1.5.0",
       "_view_name": "HTMLView",
       "description": "",
       "description_tooltip": null,
       "layout": "IPY_MODEL_d6fdbea8923f4cb48608f6b7c1d2b8df",
       "placeholder": "​",
       "style": "IPY_MODEL_372c6c6482d64a7aae55a3d91d88535a",
       "value": " 528M/528M [00:02&lt;00:00, 255MB/s]"
      }
     },
     "e695017c70e5497c8e74609c1efc3b4d": {
      "model_module": "@jupyter-widgets/controls",
      "model_module_version": "1.5.0",
      "model_name": "HTMLModel",
      "state": {
       "_dom_classes": [],
       "_model_module": "@jupyter-widgets/controls",
       "_model_module_version": "1.5.0",
       "_model_name": "HTMLModel",
       "_view_count": null,
       "_view_module": "@jupyter-widgets/controls",
       "_view_module_version": "1.5.0",
       "_view_name": "HTMLView",
       "description": "",
       "description_tooltip": null,
       "layout": "IPY_MODEL_4b852ab8f56a45b0b0d3e586282a8d1d",
       "placeholder": "​",
       "style": "IPY_MODEL_53d46b445a764bb0bba76abee2f14359",
       "value": "100%"
      }
     }
    },
    "version_major": 2,
    "version_minor": 0
   }
  }
 },
 "nbformat": 4,
 "nbformat_minor": 5
}
