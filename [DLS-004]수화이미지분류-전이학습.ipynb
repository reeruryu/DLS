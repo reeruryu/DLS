{
 "cells": [
  {
   "cell_type": "markdown",
   "id": "5e412808",
   "metadata": {
    "papermill": {
     "duration": 0.005451,
     "end_time": "2023-04-10T04:20:53.283468",
     "exception": false,
     "start_time": "2023-04-10T04:20:53.278017",
     "status": "completed"
    },
    "tags": []
   },
   "source": [
    "# [Deep Learning for Vision Systems](https://www.manning.com/books/deep-learning-for-vision-systems?a_aid=compvisionbookcom&a_bid=90abff15) Book\n",
    "\n",
    "\n",
    "## Chapter 6 Project: Sign language exercise\n",
    "\n",
    "---\n",
    "### 1. Import the libraries that we need"
   ]
  },
  {
   "cell_type": "code",
   "execution_count": 1,
   "id": "936393b2",
   "metadata": {
    "execution": {
     "iopub.execute_input": "2023-04-10T04:20:53.294194Z",
     "iopub.status.busy": "2023-04-10T04:20:53.293692Z",
     "iopub.status.idle": "2023-04-10T04:20:55.743753Z",
     "shell.execute_reply": "2023-04-10T04:20:55.742629Z"
    },
    "papermill": {
     "duration": 2.458831,
     "end_time": "2023-04-10T04:20:55.746922",
     "exception": false,
     "start_time": "2023-04-10T04:20:53.288091",
     "status": "completed"
    },
    "tags": []
   },
   "outputs": [],
   "source": [
    "#random seed 고정\n",
    "import random\n",
    "import torch\n",
    "import numpy as np\n",
    "\n",
    "seed = 42\n",
    "random.seed(seed)\n",
    "np.random.seed(seed)\n",
    "torch.manual_seed(seed)\n",
    "if torch.cuda.is_available() : \n",
    "    torch.cuda.manual_seed(seed)\n",
    "    torch.cuda.manual_seed_all(seed)\n",
    "torch.backends.cudnn.benchmark = False\n",
    "torch.backends.cudnn.deterministic = True"
   ]
  },
  {
   "cell_type": "code",
   "execution_count": 2,
   "id": "752bb959",
   "metadata": {
    "execution": {
     "iopub.execute_input": "2023-04-10T04:20:55.764768Z",
     "iopub.status.busy": "2023-04-10T04:20:55.763912Z",
     "iopub.status.idle": "2023-04-10T04:21:06.051094Z",
     "shell.execute_reply": "2023-04-10T04:21:06.049758Z"
    },
    "papermill": {
     "duration": 10.298902,
     "end_time": "2023-04-10T04:21:06.053477",
     "exception": false,
     "start_time": "2023-04-10T04:20:55.754575",
     "status": "completed"
    },
    "tags": []
   },
   "outputs": [
    {
     "name": "stdout",
     "output_type": "stream",
     "text": [
      "DEVICE:cuda\n",
      "Collecting torchsummary\r\n",
      "  Downloading torchsummary-1.5.1-py3-none-any.whl (2.8 kB)\r\n",
      "Installing collected packages: torchsummary\r\n",
      "Successfully installed torchsummary-1.5.1\r\n",
      "\u001b[33mWARNING: Running pip as the 'root' user can result in broken permissions and conflicting behaviour with the system package manager. It is recommended to use a virtual environment instead: https://pip.pypa.io/warnings/venv\u001b[0m\u001b[33m\r\n",
      "\u001b[0mNote: you may need to restart the kernel to use updated packages.\n"
     ]
    }
   ],
   "source": [
    "# DEVICE 초기화\n",
    "DEVICE = torch.device('cuda') if torch.cuda.is_available() else torch.device('cpu')\n",
    "print(f\"DEVICE:{DEVICE}\")\n",
    "\n",
    "\n",
    "# model summary\n",
    "%pip install torchsummary ## model을 요약하기 위해 torchsummary 설치\n",
    "from torchsummary import summary as summary_## 모델 정보를 확인하기 위해 torchsummary 함수 import\n",
    "\n",
    "## 모델의 형태를 출력하기 위한 함수 \n",
    "def summary_model(model,input_shape=(3, 32, 32)):\n",
    "    model = model.cuda()\n",
    "    summary_(model, input_shape) ## (model, (input shape))\n"
   ]
  },
  {
   "cell_type": "markdown",
   "id": "69243f8d",
   "metadata": {
    "papermill": {
     "duration": 0.004702,
     "end_time": "2023-04-10T04:21:06.063265",
     "exception": false,
     "start_time": "2023-04-10T04:21:06.058563",
     "status": "completed"
    },
    "tags": []
   },
   "source": [
    "### 2. Data preparation"
   ]
  },
  {
   "cell_type": "code",
   "execution_count": 3,
   "id": "84225eaa",
   "metadata": {
    "execution": {
     "iopub.execute_input": "2023-04-10T04:21:06.075207Z",
     "iopub.status.busy": "2023-04-10T04:21:06.074327Z",
     "iopub.status.idle": "2023-04-10T04:21:06.079492Z",
     "shell.execute_reply": "2023-04-10T04:21:06.078389Z"
    },
    "papermill": {
     "duration": 0.01376,
     "end_time": "2023-04-10T04:21:06.081816",
     "exception": false,
     "start_time": "2023-04-10T04:21:06.068056",
     "status": "completed"
    },
    "tags": []
   },
   "outputs": [],
   "source": [
    "train_path  = '/kaggle/input/2023-1-DLS-W6P2/train'\n",
    "valid_path  = '/kaggle/input/2023-1-DLS-W6P2/valid'\n",
    "test_path  = '/kaggle/input/2023-1-DLS-W6P2/test'"
   ]
  },
  {
   "cell_type": "code",
   "execution_count": 4,
   "id": "7ee799f6",
   "metadata": {
    "execution": {
     "iopub.execute_input": "2023-04-10T04:21:06.093154Z",
     "iopub.status.busy": "2023-04-10T04:21:06.092273Z",
     "iopub.status.idle": "2023-04-10T04:21:06.305998Z",
     "shell.execute_reply": "2023-04-10T04:21:06.304809Z"
    },
    "papermill": {
     "duration": 0.221603,
     "end_time": "2023-04-10T04:21:06.308237",
     "exception": false,
     "start_time": "2023-04-10T04:21:06.086634",
     "status": "completed"
    },
    "tags": []
   },
   "outputs": [
    {
     "name": "stdout",
     "output_type": "stream",
     "text": [
      "ImageClassification(\n",
      "    crop_size=[224]\n",
      "    resize_size=[224]\n",
      "    mean=[0.485, 0.456, 0.406]\n",
      "    std=[0.229, 0.224, 0.225]\n",
      "    interpolation=InterpolationMode.BILINEAR\n",
      ")\n"
     ]
    }
   ],
   "source": [
    "from torchvision.models import VGG16_Weights ## 사전학습된 VGG16를 이용하기 위해 import\n",
    "\n",
    "transform_ = VGG16_Weights.DEFAULT.transforms() ## VGG16에서 사용한 transform을 이용\n",
    "transform_.resize_size=[224] ## resize 크기는 224가 되도록 설정\n",
    "print(transform_)  ## transform 확인하기"
   ]
  },
  {
   "cell_type": "code",
   "execution_count": 5,
   "id": "ca3e7b87",
   "metadata": {
    "execution": {
     "iopub.execute_input": "2023-04-10T04:21:06.319506Z",
     "iopub.status.busy": "2023-04-10T04:21:06.319219Z",
     "iopub.status.idle": "2023-04-10T04:21:06.567678Z",
     "shell.execute_reply": "2023-04-10T04:21:06.566727Z"
    },
    "papermill": {
     "duration": 0.256705,
     "end_time": "2023-04-10T04:21:06.570004",
     "exception": false,
     "start_time": "2023-04-10T04:21:06.313299",
     "status": "completed"
    },
    "tags": []
   },
   "outputs": [],
   "source": [
    "## Torchvision의 함수를 이용하여 로더 작성하기\n",
    "import torch.nn as nn \n",
    "import torchvision\n",
    "\n",
    "## Torchvision의 함수를 이용하여 로더 작성하기\n",
    "## https://pytorch.org/vision/stable/generated/torchvision.datasets.ImageFolder.html \n",
    "trainSet = torchvision.datasets.ImageFolder(root = train_path,\n",
    "                                            transform = transform_)\n",
    "validSet = torchvision.datasets.ImageFolder(root = valid_path,\n",
    "                                            transform = transform_)\n",
    "testSet = torchvision.datasets.ImageFolder(root = test_path,\n",
    "                                            transform = transform_)\n",
    "\n",
    "## loader\n",
    "trainloader = torch.utils.data.DataLoader(trainSet, batch_size=10, shuffle=True)\n",
    "validloader = torch.utils.data.DataLoader(validSet, batch_size=30, shuffle=False)\n",
    "testloader = torch.utils.data.DataLoader(testSet, batch_size=50, shuffle=False)\n"
   ]
  },
  {
   "cell_type": "code",
   "execution_count": 6,
   "id": "8aed2d3c",
   "metadata": {
    "execution": {
     "iopub.execute_input": "2023-04-10T04:21:06.581378Z",
     "iopub.status.busy": "2023-04-10T04:21:06.581102Z",
     "iopub.status.idle": "2023-04-10T04:21:06.732662Z",
     "shell.execute_reply": "2023-04-10T04:21:06.731619Z"
    },
    "papermill": {
     "duration": 0.159834,
     "end_time": "2023-04-10T04:21:06.734890",
     "exception": false,
     "start_time": "2023-04-10T04:21:06.575056",
     "status": "completed"
    },
    "tags": []
   },
   "outputs": [
    {
     "name": "stdout",
     "output_type": "stream",
     "text": [
      "image shape: torch.Size([10, 3, 224, 224])\n",
      "label shape: torch.Size([10])\n"
     ]
    }
   ],
   "source": [
    "images, labels = next(iter(trainloader))\n",
    "print(\"image shape:\", images.shape)\n",
    "print(\"label shape:\", labels.shape)"
   ]
  },
  {
   "cell_type": "markdown",
   "id": "dfe6cbfb",
   "metadata": {
    "papermill": {
     "duration": 0.004883,
     "end_time": "2023-04-10T04:21:06.745179",
     "exception": false,
     "start_time": "2023-04-10T04:21:06.740296",
     "status": "completed"
    },
    "tags": []
   },
   "source": [
    "### 3. VGG16 base model pre-trained on ImageNet dataset"
   ]
  },
  {
   "cell_type": "code",
   "execution_count": 7,
   "id": "c77f1281",
   "metadata": {
    "execution": {
     "iopub.execute_input": "2023-04-10T04:21:06.757773Z",
     "iopub.status.busy": "2023-04-10T04:21:06.757480Z",
     "iopub.status.idle": "2023-04-10T04:21:15.719055Z",
     "shell.execute_reply": "2023-04-10T04:21:15.717955Z"
    },
    "papermill": {
     "duration": 8.970741,
     "end_time": "2023-04-10T04:21:15.722127",
     "exception": false,
     "start_time": "2023-04-10T04:21:06.751386",
     "status": "completed"
    },
    "tags": []
   },
   "outputs": [
    {
     "name": "stderr",
     "output_type": "stream",
     "text": [
      "Downloading: \"https://download.pytorch.org/models/vgg16-397923af.pth\" to /root/.cache/torch/hub/checkpoints/vgg16-397923af.pth\n"
     ]
    },
    {
     "data": {
      "application/vnd.jupyter.widget-view+json": {
       "model_id": "4e8c85a8c62c4db2abc299a84593fa73",
       "version_major": 2,
       "version_minor": 0
      },
      "text/plain": [
       "  0%|          | 0.00/528M [00:00<?, ?B/s]"
      ]
     },
     "metadata": {},
     "output_type": "display_data"
    },
    {
     "name": "stdout",
     "output_type": "stream",
     "text": [
      "Sequential(\n",
      "  (0): Conv2d(3, 64, kernel_size=(3, 3), stride=(1, 1), padding=(1, 1))\n",
      "  (1): ReLU(inplace=True)\n",
      "  (2): Conv2d(64, 64, kernel_size=(3, 3), stride=(1, 1), padding=(1, 1))\n",
      "  (3): ReLU(inplace=True)\n",
      "  (4): MaxPool2d(kernel_size=2, stride=2, padding=0, dilation=1, ceil_mode=False)\n",
      "  (5): Conv2d(64, 128, kernel_size=(3, 3), stride=(1, 1), padding=(1, 1))\n",
      "  (6): ReLU(inplace=True)\n",
      "  (7): Conv2d(128, 128, kernel_size=(3, 3), stride=(1, 1), padding=(1, 1))\n",
      "  (8): ReLU(inplace=True)\n",
      "  (9): MaxPool2d(kernel_size=2, stride=2, padding=0, dilation=1, ceil_mode=False)\n",
      "  (10): Conv2d(128, 256, kernel_size=(3, 3), stride=(1, 1), padding=(1, 1))\n",
      "  (11): ReLU(inplace=True)\n",
      "  (12): Conv2d(256, 256, kernel_size=(3, 3), stride=(1, 1), padding=(1, 1))\n",
      "  (13): ReLU(inplace=True)\n",
      "  (14): Conv2d(256, 256, kernel_size=(3, 3), stride=(1, 1), padding=(1, 1))\n",
      "  (15): ReLU(inplace=True)\n",
      "  (16): MaxPool2d(kernel_size=2, stride=2, padding=0, dilation=1, ceil_mode=False)\n",
      "  (17): Conv2d(256, 512, kernel_size=(3, 3), stride=(1, 1), padding=(1, 1))\n",
      "  (18): ReLU(inplace=True)\n",
      "  (19): Conv2d(512, 512, kernel_size=(3, 3), stride=(1, 1), padding=(1, 1))\n",
      "  (20): ReLU(inplace=True)\n",
      "  (21): Conv2d(512, 512, kernel_size=(3, 3), stride=(1, 1), padding=(1, 1))\n",
      "  (22): ReLU(inplace=True)\n",
      "  (23): MaxPool2d(kernel_size=2, stride=2, padding=0, dilation=1, ceil_mode=False)\n",
      "  (24): Conv2d(512, 512, kernel_size=(3, 3), stride=(1, 1), padding=(1, 1))\n",
      "  (25): ReLU(inplace=True)\n",
      "  (26): Conv2d(512, 512, kernel_size=(3, 3), stride=(1, 1), padding=(1, 1))\n",
      "  (27): ReLU(inplace=True)\n",
      "  (28): Conv2d(512, 512, kernel_size=(3, 3), stride=(1, 1), padding=(1, 1))\n",
      "  (29): ReLU(inplace=True)\n",
      "  (30): MaxPool2d(kernel_size=2, stride=2, padding=0, dilation=1, ceil_mode=False)\n",
      "  (global_avg_pool2d): AdaptiveAvgPool2d(output_size=(1, 1))\n",
      ")\n",
      "----------------------------------------------------------------\n",
      "        Layer (type)               Output Shape         Param #\n",
      "================================================================\n",
      "            Conv2d-1         [-1, 64, 224, 224]           1,792\n",
      "              ReLU-2         [-1, 64, 224, 224]               0\n",
      "            Conv2d-3         [-1, 64, 224, 224]          36,928\n",
      "              ReLU-4         [-1, 64, 224, 224]               0\n",
      "         MaxPool2d-5         [-1, 64, 112, 112]               0\n",
      "            Conv2d-6        [-1, 128, 112, 112]          73,856\n",
      "              ReLU-7        [-1, 128, 112, 112]               0\n",
      "            Conv2d-8        [-1, 128, 112, 112]         147,584\n",
      "              ReLU-9        [-1, 128, 112, 112]               0\n",
      "        MaxPool2d-10          [-1, 128, 56, 56]               0\n",
      "           Conv2d-11          [-1, 256, 56, 56]         295,168\n",
      "             ReLU-12          [-1, 256, 56, 56]               0\n",
      "           Conv2d-13          [-1, 256, 56, 56]         590,080\n",
      "             ReLU-14          [-1, 256, 56, 56]               0\n",
      "           Conv2d-15          [-1, 256, 56, 56]         590,080\n",
      "             ReLU-16          [-1, 256, 56, 56]               0\n",
      "        MaxPool2d-17          [-1, 256, 28, 28]               0\n",
      "           Conv2d-18          [-1, 512, 28, 28]       1,180,160\n",
      "             ReLU-19          [-1, 512, 28, 28]               0\n",
      "           Conv2d-20          [-1, 512, 28, 28]       2,359,808\n",
      "             ReLU-21          [-1, 512, 28, 28]               0\n",
      "           Conv2d-22          [-1, 512, 28, 28]       2,359,808\n",
      "             ReLU-23          [-1, 512, 28, 28]               0\n",
      "        MaxPool2d-24          [-1, 512, 14, 14]               0\n",
      "           Conv2d-25          [-1, 512, 14, 14]       2,359,808\n",
      "             ReLU-26          [-1, 512, 14, 14]               0\n",
      "           Conv2d-27          [-1, 512, 14, 14]       2,359,808\n",
      "             ReLU-28          [-1, 512, 14, 14]               0\n",
      "           Conv2d-29          [-1, 512, 14, 14]       2,359,808\n",
      "             ReLU-30          [-1, 512, 14, 14]               0\n",
      "        MaxPool2d-31            [-1, 512, 7, 7]               0\n",
      "AdaptiveAvgPool2d-32            [-1, 512, 1, 1]               0\n",
      "================================================================\n",
      "Total params: 14,714,688\n",
      "Trainable params: 14,714,688\n",
      "Non-trainable params: 0\n",
      "----------------------------------------------------------------\n",
      "Input size (MB): 0.57\n",
      "Forward/backward pass size (MB): 218.40\n",
      "Params size (MB): 56.13\n",
      "Estimated Total Size (MB): 275.10\n",
      "----------------------------------------------------------------\n"
     ]
    }
   ],
   "source": [
    "from torchvision.models import VGG16_Weights\n",
    "## Classifier 부분은 제외하고 가져오기\n",
    "base_model = torchvision.models.vgg16(weights=VGG16_Weights.IMAGENET1K_V1).features\n",
    "## 마지막에 global_avg_pool2d 추가하기\n",
    "base_model.global_avg_pool2d = nn.AdaptiveAvgPool2d((1,1))\n",
    "print(base_model)\n",
    "summary_model(base_model, (3,224,224))"
   ]
  },
  {
   "cell_type": "markdown",
   "id": "cbf8eeb0",
   "metadata": {
    "papermill": {
     "duration": 0.005409,
     "end_time": "2023-04-10T04:21:15.733303",
     "exception": false,
     "start_time": "2023-04-10T04:21:15.727894",
     "status": "completed"
    },
    "tags": []
   },
   "source": [
    "### 2. freeze the classification layers in the base model"
   ]
  },
  {
   "cell_type": "code",
   "execution_count": 8,
   "id": "4f412f27",
   "metadata": {
    "execution": {
     "iopub.execute_input": "2023-04-10T04:21:15.745628Z",
     "iopub.status.busy": "2023-04-10T04:21:15.745309Z",
     "iopub.status.idle": "2023-04-10T04:21:15.761067Z",
     "shell.execute_reply": "2023-04-10T04:21:15.759959Z"
    },
    "papermill": {
     "duration": 0.025271,
     "end_time": "2023-04-10T04:21:15.764092",
     "exception": false,
     "start_time": "2023-04-10T04:21:15.738821",
     "status": "completed"
    },
    "tags": []
   },
   "outputs": [
    {
     "name": "stdout",
     "output_type": "stream",
     "text": [
      "----------------------------------------------------------------\n",
      "        Layer (type)               Output Shape         Param #\n",
      "================================================================\n",
      "            Conv2d-1         [-1, 64, 224, 224]           1,792\n",
      "              ReLU-2         [-1, 64, 224, 224]               0\n",
      "            Conv2d-3         [-1, 64, 224, 224]          36,928\n",
      "              ReLU-4         [-1, 64, 224, 224]               0\n",
      "         MaxPool2d-5         [-1, 64, 112, 112]               0\n",
      "            Conv2d-6        [-1, 128, 112, 112]          73,856\n",
      "              ReLU-7        [-1, 128, 112, 112]               0\n",
      "            Conv2d-8        [-1, 128, 112, 112]         147,584\n",
      "              ReLU-9        [-1, 128, 112, 112]               0\n",
      "        MaxPool2d-10          [-1, 128, 56, 56]               0\n",
      "           Conv2d-11          [-1, 256, 56, 56]         295,168\n",
      "             ReLU-12          [-1, 256, 56, 56]               0\n",
      "           Conv2d-13          [-1, 256, 56, 56]         590,080\n",
      "             ReLU-14          [-1, 256, 56, 56]               0\n",
      "           Conv2d-15          [-1, 256, 56, 56]         590,080\n",
      "             ReLU-16          [-1, 256, 56, 56]               0\n",
      "        MaxPool2d-17          [-1, 256, 28, 28]               0\n",
      "           Conv2d-18          [-1, 512, 28, 28]       1,180,160\n",
      "             ReLU-19          [-1, 512, 28, 28]               0\n",
      "           Conv2d-20          [-1, 512, 28, 28]       2,359,808\n",
      "             ReLU-21          [-1, 512, 28, 28]               0\n",
      "           Conv2d-22          [-1, 512, 28, 28]       2,359,808\n",
      "             ReLU-23          [-1, 512, 28, 28]               0\n",
      "        MaxPool2d-24          [-1, 512, 14, 14]               0\n",
      "           Conv2d-25          [-1, 512, 14, 14]       2,359,808\n",
      "             ReLU-26          [-1, 512, 14, 14]               0\n",
      "           Conv2d-27          [-1, 512, 14, 14]       2,359,808\n",
      "             ReLU-28          [-1, 512, 14, 14]               0\n",
      "           Conv2d-29          [-1, 512, 14, 14]       2,359,808\n",
      "             ReLU-30          [-1, 512, 14, 14]               0\n",
      "        MaxPool2d-31            [-1, 512, 7, 7]               0\n",
      "AdaptiveAvgPool2d-32            [-1, 512, 1, 1]               0\n",
      "================================================================\n",
      "Total params: 14,714,688\n",
      "Trainable params: 7,079,424\n",
      "Non-trainable params: 7,635,264\n",
      "----------------------------------------------------------------\n",
      "Input size (MB): 0.57\n",
      "Forward/backward pass size (MB): 218.40\n",
      "Params size (MB): 56.13\n",
      "Estimated Total Size (MB): 275.10\n",
      "----------------------------------------------------------------\n"
     ]
    }
   ],
   "source": [
    "## 모델의 뒷단만 학습하도록 하기 위해서 앞부분은 freeze 해주기\n",
    "\n",
    "for para in base_model[:-10].parameters(): ## keras는 -5이고 pytorch에서는 -10인 이유는 keras는 layer를 설정할 때 활성화함수까지 포함하기 때문..\n",
    "    para.requires_grad = False\n",
    "\n",
    "summary_model(base_model,(3,224,224)) ## 모델 요약 정보 확인"
   ]
  },
  {
   "cell_type": "code",
   "execution_count": 9,
   "id": "3e301a46",
   "metadata": {
    "execution": {
     "iopub.execute_input": "2023-04-10T04:21:15.777030Z",
     "iopub.status.busy": "2023-04-10T04:21:15.776195Z",
     "iopub.status.idle": "2023-04-10T04:21:17.378810Z",
     "shell.execute_reply": "2023-04-10T04:21:17.376758Z"
    },
    "papermill": {
     "duration": 1.611329,
     "end_time": "2023-04-10T04:21:17.381021",
     "exception": false,
     "start_time": "2023-04-10T04:21:15.769692",
     "status": "completed"
    },
    "tags": []
   },
   "outputs": [
    {
     "name": "stdout",
     "output_type": "stream",
     "text": [
      "Sequential(\n",
      "  (0): Conv2d(3, 64, kernel_size=(3, 3), stride=(1, 1), padding=(1, 1))\n",
      "  (1): ReLU(inplace=True)\n",
      "  (2): Conv2d(64, 64, kernel_size=(3, 3), stride=(1, 1), padding=(1, 1))\n",
      "  (3): ReLU(inplace=True)\n",
      "  (4): MaxPool2d(kernel_size=2, stride=2, padding=0, dilation=1, ceil_mode=False)\n",
      "  (5): Conv2d(64, 128, kernel_size=(3, 3), stride=(1, 1), padding=(1, 1))\n",
      "  (6): ReLU(inplace=True)\n",
      "  (7): Conv2d(128, 128, kernel_size=(3, 3), stride=(1, 1), padding=(1, 1))\n",
      "  (8): ReLU(inplace=True)\n",
      "  (9): MaxPool2d(kernel_size=2, stride=2, padding=0, dilation=1, ceil_mode=False)\n",
      "  (10): Conv2d(128, 256, kernel_size=(3, 3), stride=(1, 1), padding=(1, 1))\n",
      "  (11): ReLU(inplace=True)\n",
      "  (12): Conv2d(256, 256, kernel_size=(3, 3), stride=(1, 1), padding=(1, 1))\n",
      "  (13): ReLU(inplace=True)\n",
      "  (14): Conv2d(256, 256, kernel_size=(3, 3), stride=(1, 1), padding=(1, 1))\n",
      "  (15): ReLU(inplace=True)\n",
      "  (16): MaxPool2d(kernel_size=2, stride=2, padding=0, dilation=1, ceil_mode=False)\n",
      "  (17): Conv2d(256, 512, kernel_size=(3, 3), stride=(1, 1), padding=(1, 1))\n",
      "  (18): ReLU(inplace=True)\n",
      "  (19): Conv2d(512, 512, kernel_size=(3, 3), stride=(1, 1), padding=(1, 1))\n",
      "  (20): ReLU(inplace=True)\n",
      "  (21): Conv2d(512, 512, kernel_size=(3, 3), stride=(1, 1), padding=(1, 1))\n",
      "  (22): ReLU(inplace=True)\n",
      "  (23): MaxPool2d(kernel_size=2, stride=2, padding=0, dilation=1, ceil_mode=False)\n",
      "  (24): Conv2d(512, 512, kernel_size=(3, 3), stride=(1, 1), padding=(1, 1))\n",
      "  (25): ReLU(inplace=True)\n",
      "  (26): Conv2d(512, 512, kernel_size=(3, 3), stride=(1, 1), padding=(1, 1))\n",
      "  (27): ReLU(inplace=True)\n",
      "  (28): Conv2d(512, 512, kernel_size=(3, 3), stride=(1, 1), padding=(1, 1))\n",
      "  (29): ReLU(inplace=True)\n",
      "  (30): MaxPool2d(kernel_size=2, stride=2, padding=0, dilation=1, ceil_mode=False)\n",
      "  (global_avg_pool2d): AdaptiveAvgPool2d(output_size=(1, 1))\n",
      "  (classifier): Sequential(\n",
      "    (0): Flatten(start_dim=1, end_dim=-1)\n",
      "    (1): Linear(in_features=512, out_features=10, bias=True)\n",
      "  )\n",
      ")\n",
      "----------------------------------------------------------------\n",
      "        Layer (type)               Output Shape         Param #\n",
      "================================================================\n",
      "            Conv2d-1         [-1, 64, 224, 224]           1,792\n",
      "              ReLU-2         [-1, 64, 224, 224]               0\n",
      "            Conv2d-3         [-1, 64, 224, 224]          36,928\n",
      "              ReLU-4         [-1, 64, 224, 224]               0\n",
      "         MaxPool2d-5         [-1, 64, 112, 112]               0\n",
      "            Conv2d-6        [-1, 128, 112, 112]          73,856\n",
      "              ReLU-7        [-1, 128, 112, 112]               0\n",
      "            Conv2d-8        [-1, 128, 112, 112]         147,584\n",
      "              ReLU-9        [-1, 128, 112, 112]               0\n",
      "        MaxPool2d-10          [-1, 128, 56, 56]               0\n",
      "           Conv2d-11          [-1, 256, 56, 56]         295,168\n",
      "             ReLU-12          [-1, 256, 56, 56]               0\n",
      "           Conv2d-13          [-1, 256, 56, 56]         590,080\n",
      "             ReLU-14          [-1, 256, 56, 56]               0\n",
      "           Conv2d-15          [-1, 256, 56, 56]         590,080\n",
      "             ReLU-16          [-1, 256, 56, 56]               0\n",
      "        MaxPool2d-17          [-1, 256, 28, 28]               0\n",
      "           Conv2d-18          [-1, 512, 28, 28]       1,180,160\n",
      "             ReLU-19          [-1, 512, 28, 28]               0\n",
      "           Conv2d-20          [-1, 512, 28, 28]       2,359,808\n",
      "             ReLU-21          [-1, 512, 28, 28]               0\n",
      "           Conv2d-22          [-1, 512, 28, 28]       2,359,808\n",
      "             ReLU-23          [-1, 512, 28, 28]               0\n",
      "        MaxPool2d-24          [-1, 512, 14, 14]               0\n",
      "           Conv2d-25          [-1, 512, 14, 14]       2,359,808\n",
      "             ReLU-26          [-1, 512, 14, 14]               0\n",
      "           Conv2d-27          [-1, 512, 14, 14]       2,359,808\n",
      "             ReLU-28          [-1, 512, 14, 14]               0\n",
      "           Conv2d-29          [-1, 512, 14, 14]       2,359,808\n",
      "             ReLU-30          [-1, 512, 14, 14]               0\n",
      "        MaxPool2d-31            [-1, 512, 7, 7]               0\n",
      "AdaptiveAvgPool2d-32            [-1, 512, 1, 1]               0\n",
      "          Flatten-33                  [-1, 512]               0\n",
      "           Linear-34                   [-1, 10]           5,130\n",
      "================================================================\n",
      "Total params: 14,719,818\n",
      "Trainable params: 7,084,554\n",
      "Non-trainable params: 7,635,264\n",
      "----------------------------------------------------------------\n",
      "Input size (MB): 0.57\n",
      "Forward/backward pass size (MB): 218.40\n",
      "Params size (MB): 56.15\n",
      "Estimated Total Size (MB): 275.13\n",
      "----------------------------------------------------------------\n"
     ]
    }
   ],
   "source": [
    "## Classifier 만들기\n",
    "classifier = nn.Sequential(\n",
    "    nn.Flatten(),\n",
    "    nn.Linear(512,10), ## 512, 7, 7\n",
    "    # nn.Softmax() ## CrossEntropy에 Softmax가 포함되므로 사용하지 않음\n",
    ")\n",
    "\n",
    "base_model.classifier = classifier ## 모델에 classifier라는 이름으로 추가\n",
    "print(base_model)\n",
    "summary_model(base_model, (3,224,224))## 모델 요약 정보 확인"
   ]
  },
  {
   "cell_type": "markdown",
   "id": "35fb9b5a",
   "metadata": {
    "papermill": {
     "duration": 0.005801,
     "end_time": "2023-04-10T04:21:17.393219",
     "exception": false,
     "start_time": "2023-04-10T04:21:17.387418",
     "status": "completed"
    },
    "tags": []
   },
   "source": [
    "### 4. Train the new model"
   ]
  },
  {
   "cell_type": "code",
   "execution_count": 10,
   "id": "e6a35d33",
   "metadata": {
    "execution": {
     "iopub.execute_input": "2023-04-10T04:21:17.406834Z",
     "iopub.status.busy": "2023-04-10T04:21:17.405947Z",
     "iopub.status.idle": "2023-04-10T04:26:03.842686Z",
     "shell.execute_reply": "2023-04-10T04:26:03.841575Z"
    },
    "papermill": {
     "duration": 286.446442,
     "end_time": "2023-04-10T04:26:03.845498",
     "exception": false,
     "start_time": "2023-04-10T04:21:17.399056",
     "status": "completed"
    },
    "tags": []
   },
   "outputs": [
    {
     "name": "stdout",
     "output_type": "stream",
     "text": [
      "Epoch 0/15\n",
      "Epoch 00000: val_loss improved from 100.00000 to 0.10571, saving model to bestCheckPiont_resnet50.pth\n",
      "24s - loss: 0.68269 - acc: 0.78972 - val_loss: 0.10571 - val_acc: 0.98000\n",
      "Epoch 1/15\n",
      "Epoch 00001: val_loss improved from 0.10571 to 0.09374, saving model to bestCheckPiont_resnet50.pth\n",
      "18s - loss: 0.05270 - acc: 0.98715 - val_loss: 0.09374 - val_acc: 0.98667\n",
      "Epoch 2/15\n",
      "Epoch 00002: val_loss improved from 0.09374 to 0.08191, saving model to bestCheckPiont_resnet50.pth\n",
      "18s - loss: 0.02272 - acc: 0.99650 - val_loss: 0.08191 - val_acc: 0.99000\n",
      "Epoch 3/15\n",
      "Epoch 00003: val_loss improved from 0.08191 to 0.07792, saving model to bestCheckPiont_resnet50.pth\n",
      "18s - loss: 0.00296 - acc: 1.00000 - val_loss: 0.07792 - val_acc: 0.99000\n",
      "Epoch 4/15\n",
      "Epoch 00004: val_loss did not improve\n",
      "18s - loss: 0.00101 - acc: 1.00000 - val_loss: 0.08324 - val_acc: 0.99000\n",
      "Epoch 5/15\n",
      "Epoch 00005: val_loss did not improve\n",
      "18s - loss: 0.00065 - acc: 1.00000 - val_loss: 0.08466 - val_acc: 0.99000\n",
      "Epoch 6/15\n",
      "Epoch 00006: val_loss did not improve\n",
      "18s - loss: 0.00045 - acc: 1.00000 - val_loss: 0.08883 - val_acc: 0.99000\n",
      "Epoch 7/15\n",
      "Epoch 00007: val_loss did not improve\n",
      "18s - loss: 0.00032 - acc: 1.00000 - val_loss: 0.09463 - val_acc: 0.99000\n",
      "Epoch 8/15\n",
      "Epoch 00008: val_loss did not improve\n",
      "18s - loss: 0.00026 - acc: 1.00000 - val_loss: 0.08842 - val_acc: 0.99000\n",
      "Epoch 9/15\n",
      "Epoch 00009: val_loss did not improve\n",
      "18s - loss: 0.00020 - acc: 1.00000 - val_loss: 0.09188 - val_acc: 0.99000\n",
      "Epoch 10/15\n",
      "Epoch 00010: val_loss did not improve\n",
      "18s - loss: 0.00016 - acc: 1.00000 - val_loss: 0.09370 - val_acc: 0.99000\n",
      "Epoch 11/15\n",
      "Epoch 00011: val_loss did not improve\n",
      "18s - loss: 0.00013 - acc: 1.00000 - val_loss: 0.09194 - val_acc: 0.99000\n",
      "Epoch 12/15\n",
      "Epoch 00012: val_loss did not improve\n",
      "18s - loss: 0.00010 - acc: 1.00000 - val_loss: 0.09867 - val_acc: 0.99000\n",
      "Epoch 13/15\n",
      "Epoch 00013: val_loss did not improve\n",
      "18s - loss: 0.00009 - acc: 1.00000 - val_loss: 0.10129 - val_acc: 0.99000\n",
      "Epoch 14/15\n",
      "Epoch 00014: val_loss did not improve\n",
      "19s - loss: 0.00007 - acc: 1.00000 - val_loss: 0.09951 - val_acc: 0.99000\n"
     ]
    }
   ],
   "source": [
    "# 모델 학습하기\n",
    "import time\n",
    "\n",
    "# 파라미터 설정\n",
    "total_epoch = 15\n",
    "best_loss = 100 ## loss를 기준으로 best_checkpoint를 저장하기 위해 100으로 설정하였음.\n",
    "\n",
    "lr_rate = 0.0001\n",
    "optimizer = torch.optim.Adam(base_model.parameters(), lr=lr_rate)## Adma을 최적화 함수로 이용함. 파라미터는 documentation을 참조!\n",
    "\n",
    "loss = torch.nn.CrossEntropyLoss().cuda()## 분류문제이므로 CrossEntropyLoss를 이용함\n",
    "\n",
    "## 모델 시각화를 위해 정확도를 저장할 리스트 생성\n",
    "train_accuracys=[]\n",
    "eval_accuracys=[]\n",
    "\n",
    "for epoch in range(total_epoch):\n",
    "    start = time.time()\n",
    "    print(f'Epoch {epoch}/{total_epoch}')\n",
    "\n",
    "    # train\n",
    "    train_loss = 0\n",
    "    correct = 0\n",
    "    for x, target in trainloader:## 한번에 배치사이즈만큼 데이터를 불러와 모델을 학습함\n",
    "\n",
    "        optimizer.zero_grad()## 이전 loss를 누적하지 않기 위해 0으로 설정해주는 과정\n",
    "        \n",
    "        y_pred = base_model(x.cuda())## 모델의 출력값\n",
    "        \n",
    "        cost = loss(y_pred, target.cuda())## loss 함수를 이용하여 오차를 계산함\n",
    "\n",
    "        cost.backward() # gradient 구하기 \n",
    "        optimizer.step()# 모델 학습\n",
    "        train_loss += cost.item()\n",
    "        \n",
    "        pred = y_pred.data.max(1, keepdim=True)[1] ## 각 클래스의 확률 값 중 가장 큰 값을 가지는 클래스의 인덱스를 pred 변수로 받음\n",
    "        correct += pred.cpu().eq(target.data.view_as(pred)).sum() # pred와 target을 비교하여 맞은 개수를 구하는 과정.\n",
    "                                                                  # view_as함수는 들어가는 인수의 모양으로 맞춰주고, .eq()를 통해 pred와 target의 값이 동일한지 판단하여 True 개수 구하기\n",
    "    \n",
    "    train_loss /= len(trainloader)\n",
    "        \n",
    "    train_accuracy = correct / len(trainloader.dataset)\n",
    "    train_accuracys.append(train_accuracy) ## 그래프로 표현하기 위해 리스트에 담음\n",
    "\n",
    "    \n",
    "    #Evaluate\n",
    "    eval_loss = 0\n",
    "    correct = 0\n",
    "    with torch.no_grad(): ## 학습하지 않기 위해\n",
    "        base_model.eval()# 평가 모드로 변경\n",
    "        for x, target in validloader:\n",
    "            y_pred = base_model(x.cuda())## 모델의 출력값\n",
    "            cost = loss(y_pred, target.cuda())## loss 함수를 이용하여 valid 데이터의 오차를 계산함\n",
    "            eval_loss += cost\n",
    "            \n",
    "            pred = y_pred.data.max(1, keepdim=True)[1]## 각 클래스의 확률 값 중 가장 큰 값을 가지는 클래스의 인덱스를 pred 변수로 받음\n",
    "            correct += pred.cpu().eq(target.data.view_as(pred)).cpu().sum()# pred와 target을 비교하여 맞은 개수를 구하는 과정\n",
    "            \n",
    "        eval_loss /= len(validloader)\n",
    "        eval_accuracy = correct / len(validloader.dataset)\n",
    "        eval_accuracys.append(eval_accuracy)## 그래프로 표현하기 위해 리스트에 담음\n",
    "        \n",
    "        ## valid 데이터의 loss를 기준으로 이전 loss 보다 작을 경우 체크포인트 저장\n",
    "        if eval_loss < best_loss:\n",
    "            torch.save({\n",
    "                'epoch': epoch,\n",
    "                'model': base_model,\n",
    "                'model_state_dict': base_model.state_dict(),\n",
    "                'optimizer_state_dict': optimizer.state_dict(),\n",
    "                'loss': cost.item,\n",
    "                }, './bestCheckPoint.pth')\n",
    "            \n",
    "            print(f'Epoch {epoch:05d}: val_loss improved from {best_loss:.5f} to {eval_loss:.5f}, saving model to bestCheckPiont_resnet50.pth')\n",
    "            best_loss = eval_loss\n",
    "        else:\n",
    "            print(f'Epoch {epoch:05d}: val_loss did not improve')\n",
    "        base_model.train()\n",
    "        \n",
    "    print(f'{int(time.time() - start)}s - loss: {train_loss:.5f} - acc: {train_accuracy:.5f} - val_loss: {eval_loss:.5f} - val_acc: {eval_accuracy:.5f}')"
   ]
  },
  {
   "cell_type": "markdown",
   "id": "9eab3104",
   "metadata": {
    "papermill": {
     "duration": 0.006595,
     "end_time": "2023-04-10T04:26:03.859275",
     "exception": false,
     "start_time": "2023-04-10T04:26:03.852680",
     "status": "completed"
    },
    "tags": []
   },
   "source": [
    "### 5. create the confusion matrix to evaluate the model"
   ]
  },
  {
   "cell_type": "code",
   "execution_count": 11,
   "id": "5750dadf",
   "metadata": {
    "execution": {
     "iopub.execute_input": "2023-04-10T04:26:03.875243Z",
     "iopub.status.busy": "2023-04-10T04:26:03.874206Z",
     "iopub.status.idle": "2023-04-10T04:26:04.050587Z",
     "shell.execute_reply": "2023-04-10T04:26:04.049414Z"
    },
    "papermill": {
     "duration": 0.187366,
     "end_time": "2023-04-10T04:26:04.053586",
     "exception": false,
     "start_time": "2023-04-10T04:26:03.866220",
     "status": "completed"
    },
    "tags": []
   },
   "outputs": [
    {
     "data": {
      "text/plain": [
       "<All keys matched successfully>"
      ]
     },
     "execution_count": 11,
     "metadata": {},
     "output_type": "execute_result"
    }
   ],
   "source": [
    "## 저장되어있는 best 체크포인트 load하기\n",
    "best_model = torch.load('./bestCheckPoint.pth')['model']  # 전체 모델을 통째로 불러옴, 클래스 선언 필수\n",
    "best_model.load_state_dict(torch.load('./bestCheckPoint.pth')['model_state_dict'])  # state_dict를 불러 온 후, 모델에 저장"
   ]
  },
  {
   "cell_type": "code",
   "execution_count": 12,
   "id": "6fdfa57a",
   "metadata": {
    "execution": {
     "iopub.execute_input": "2023-04-10T04:26:04.069917Z",
     "iopub.status.busy": "2023-04-10T04:26:04.069056Z",
     "iopub.status.idle": "2023-04-10T04:26:04.600001Z",
     "shell.execute_reply": "2023-04-10T04:26:04.598976Z"
    },
    "papermill": {
     "duration": 0.54145,
     "end_time": "2023-04-10T04:26:04.602459",
     "exception": false,
     "start_time": "2023-04-10T04:26:04.061009",
     "status": "completed"
    },
    "tags": []
   },
   "outputs": [
    {
     "name": "stdout",
     "output_type": "stream",
     "text": [
      "torch.Size([50, 3, 224, 224])\n",
      "Test accuracy: 100 %\n"
     ]
    }
   ],
   "source": [
    "#prediction\n",
    "\n",
    "correct = 0\n",
    "total = 0\n",
    "pred_ = []\n",
    "\n",
    "with torch.no_grad(): ## 학습하지 않기 위해\n",
    "    best_model.eval()\n",
    "    for data, label in testloader:\n",
    "        print(data.shape)\n",
    "        outputs = best_model(data.cuda())\n",
    "        _, predicted = torch.max(outputs.data, 1)\n",
    "        pred_.append(predicted.cpu()) ## 제출을 위해 예측값을 pred_로 받아줌\n",
    "        total += label.size(0)\n",
    "        correct += (predicted == label.cuda()).sum().item()\n",
    "        \n",
    "print('Test accuracy: %d %%' % (100 * correct / total))"
   ]
  },
  {
   "cell_type": "code",
   "execution_count": 13,
   "id": "441b2a34",
   "metadata": {
    "execution": {
     "iopub.execute_input": "2023-04-10T04:26:04.619764Z",
     "iopub.status.busy": "2023-04-10T04:26:04.618209Z",
     "iopub.status.idle": "2023-04-10T04:26:05.930180Z",
     "shell.execute_reply": "2023-04-10T04:26:05.929098Z"
    },
    "papermill": {
     "duration": 1.322544,
     "end_time": "2023-04-10T04:26:05.932366",
     "exception": false,
     "start_time": "2023-04-10T04:26:04.609822",
     "status": "completed"
    },
    "tags": []
   },
   "outputs": [
    {
     "data": {
      "image/png": "[encoded data removed]",
      "text/plain": [
       "<Figure size 640x480 with 2 Axes>"
      ]
     },
     "metadata": {},
     "output_type": "display_data"
    }
   ],
   "source": [
    "from sklearn.metrics import confusion_matrix\n",
    "import matplotlib.pyplot as plt\n",
    "%matplotlib inline\n",
    "\n",
    "cm_labels = ['0','1','2','3','4','5','6','7','8','9']\n",
    "\n",
    "cm = confusion_matrix(testSet.targets,\n",
    "                      np.array(pred_[0].cpu()))\n",
    "plt.imshow(cm, cmap=plt.cm.Blues)\n",
    "plt.colorbar()\n",
    "indexes = np.arange(len(cm_labels))\n",
    "for i in indexes:\n",
    "    for j in indexes:\n",
    "        plt.text(j, i, cm[i, j])\n",
    "plt.xticks(indexes, cm_labels, rotation=90)\n",
    "plt.xlabel('Predicted label')\n",
    "plt.yticks(indexes, cm_labels)\n",
    "plt.ylabel('True label')\n",
    "plt.title('Confusion matrix')\n",
    "plt.show()"
   ]
  },
  {
   "cell_type": "markdown",
   "id": "0388a944",
   "metadata": {
    "papermill": {
     "duration": 0.007519,
     "end_time": "2023-04-10T04:26:05.947892",
     "exception": false,
     "start_time": "2023-04-10T04:26:05.940373",
     "status": "completed"
    },
    "tags": []
   },
   "source": [
    "### The End!"
   ]
  },
  {
   "cell_type": "code",
   "execution_count": 14,
   "id": "0fa1db6d",
   "metadata": {
    "execution": {
     "iopub.execute_input": "2023-04-10T04:26:05.966115Z",
     "iopub.status.busy": "2023-04-10T04:26:05.964923Z",
     "iopub.status.idle": "2023-04-10T04:26:05.993540Z",
     "shell.execute_reply": "2023-04-10T04:26:05.992497Z"
    },
    "papermill": {
     "duration": 0.040643,
     "end_time": "2023-04-10T04:26:05.996170",
     "exception": false,
     "start_time": "2023-04-10T04:26:05.955527",
     "status": "completed"
    },
    "tags": []
   },
   "outputs": [
    {
     "data": {
      "text/html": [
       "<div>\n",
       "<style scoped>\n",
       "    .dataframe tbody tr th:only-of-type {\n",
       "        vertical-align: middle;\n",
       "    }\n",
       "\n",
       "    .dataframe tbody tr th {\n",
       "        vertical-align: top;\n",
       "    }\n",
       "\n",
       "    .dataframe thead th {\n",
       "        text-align: right;\n",
       "    }\n",
       "</style>\n",
       "<table border=\"1\" class=\"dataframe\">\n",
       "  <thead>\n",
       "    <tr style=\"text-align: right;\">\n",
       "      <th></th>\n",
       "      <th>ID</th>\n",
       "      <th>label</th>\n",
       "    </tr>\n",
       "  </thead>\n",
       "  <tbody>\n",
       "    <tr>\n",
       "      <th>0</th>\n",
       "      <td>IMG_4159</td>\n",
       "      <td>0</td>\n",
       "    </tr>\n",
       "    <tr>\n",
       "      <th>1</th>\n",
       "      <td>IMG_4725</td>\n",
       "      <td>0</td>\n",
       "    </tr>\n",
       "    <tr>\n",
       "      <th>2</th>\n",
       "      <td>IMG_4976</td>\n",
       "      <td>0</td>\n",
       "    </tr>\n",
       "    <tr>\n",
       "      <th>3</th>\n",
       "      <td>IMG_5572</td>\n",
       "      <td>0</td>\n",
       "    </tr>\n",
       "    <tr>\n",
       "      <th>4</th>\n",
       "      <td>IMG_5695</td>\n",
       "      <td>0</td>\n",
       "    </tr>\n",
       "  </tbody>\n",
       "</table>\n",
       "</div>"
      ],
      "text/plain": [
       "         ID  label\n",
       "0  IMG_4159      0\n",
       "1  IMG_4725      0\n",
       "2  IMG_4976      0\n",
       "3  IMG_5572      0\n",
       "4  IMG_5695      0"
      ]
     },
     "execution_count": 14,
     "metadata": {},
     "output_type": "execute_result"
    }
   ],
   "source": [
    "## pandas를 이용하여 sample.csv 파일 읽기\n",
    "import pandas as pd\n",
    "\n",
    "sample = pd.read_csv(\"/kaggle/input/2023-1-DLS-W6P2/sample.csv\")\n",
    "sample.head()"
   ]
  },
  {
   "cell_type": "code",
   "execution_count": 15,
   "id": "29841040",
   "metadata": {
    "execution": {
     "iopub.execute_input": "2023-04-10T04:26:06.015165Z",
     "iopub.status.busy": "2023-04-10T04:26:06.014256Z",
     "iopub.status.idle": "2023-04-10T04:26:06.024762Z",
     "shell.execute_reply": "2023-04-10T04:26:06.023760Z"
    },
    "papermill": {
     "duration": 0.022559,
     "end_time": "2023-04-10T04:26:06.027110",
     "exception": false,
     "start_time": "2023-04-10T04:26:06.004551",
     "status": "completed"
    },
    "tags": []
   },
   "outputs": [
    {
     "data": {
      "text/plain": [
       "([tensor([0, 0, 0, 0, 0, 1, 1, 1, 1, 1, 2, 2, 2, 2, 2, 3, 3, 3, 3, 3, 4, 4, 4, 4,\n",
       "          4, 5, 5, 5, 5, 5, 6, 6, 6, 6, 6, 7, 7, 7, 7, 7, 8, 8, 8, 8, 8, 9, 9, 9,\n",
       "          9, 9])],\n",
       " array([0, 0, 0, 0, 0, 1, 1, 1, 1, 1, 2, 2, 2, 2, 2, 3, 3, 3, 3, 3, 4, 4,\n",
       "        4, 4, 4, 5, 5, 5, 5, 5, 6, 6, 6, 6, 6, 7, 7, 7, 7, 7, 8, 8, 8, 8,\n",
       "        8, 9, 9, 9, 9, 9]))"
      ]
     },
     "execution_count": 15,
     "metadata": {},
     "output_type": "execute_result"
    }
   ],
   "source": [
    "pred_, np.array(pred_[0].cpu())"
   ]
  },
  {
   "cell_type": "code",
   "execution_count": 16,
   "id": "250f60d8",
   "metadata": {
    "execution": {
     "iopub.execute_input": "2023-04-10T04:26:06.045265Z",
     "iopub.status.busy": "2023-04-10T04:26:06.044880Z",
     "iopub.status.idle": "2023-04-10T04:26:06.050018Z",
     "shell.execute_reply": "2023-04-10T04:26:06.048980Z"
    },
    "papermill": {
     "duration": 0.016644,
     "end_time": "2023-04-10T04:26:06.052111",
     "exception": false,
     "start_time": "2023-04-10T04:26:06.035467",
     "status": "completed"
    },
    "tags": []
   },
   "outputs": [],
   "source": [
    "result = np.array(pred_[0])"
   ]
  },
  {
   "cell_type": "code",
   "execution_count": 17,
   "id": "3b34612a",
   "metadata": {
    "execution": {
     "iopub.execute_input": "2023-04-10T04:26:06.070849Z",
     "iopub.status.busy": "2023-04-10T04:26:06.070135Z",
     "iopub.status.idle": "2023-04-10T04:26:06.160174Z",
     "shell.execute_reply": "2023-04-10T04:26:06.159003Z"
    },
    "papermill": {
     "duration": 0.102432,
     "end_time": "2023-04-10T04:26:06.162991",
     "exception": false,
     "start_time": "2023-04-10T04:26:06.060559",
     "status": "completed"
    },
    "tags": []
   },
   "outputs": [
    {
     "name": "stderr",
     "output_type": "stream",
     "text": [
      "/opt/conda/lib/python3.7/site-packages/ipykernel_launcher.py:4: SettingWithCopyWarning: \n",
      "A value is trying to be set on a copy of a slice from a DataFrame\n",
      "\n",
      "See the caveats in the documentation: https://pandas.pydata.org/pandas-docs/stable/user_guide/indexing.html#returning-a-view-versus-a-copy\n",
      "  after removing the cwd from sys.path.\n"
     ]
    }
   ],
   "source": [
    "for i, info in enumerate(testloader.dataset.imgs):\n",
    "    path = info[0]\n",
    "    id = (path.split(\"/\")[-1]).split(\".\")[-2] ## test 이미지의 ID를 찾는 방법 \n",
    "    sample['label'][sample['ID']== id]= result[i] ## sample의 ID에 맞추어 예측값 넣기"
   ]
  },
  {
   "cell_type": "code",
   "execution_count": 18,
   "id": "f49370f5",
   "metadata": {
    "execution": {
     "iopub.execute_input": "2023-04-10T04:26:06.181894Z",
     "iopub.status.busy": "2023-04-10T04:26:06.181463Z",
     "iopub.status.idle": "2023-04-10T04:26:06.189626Z",
     "shell.execute_reply": "2023-04-10T04:26:06.188648Z"
    },
    "papermill": {
     "duration": 0.020258,
     "end_time": "2023-04-10T04:26:06.191890",
     "exception": false,
     "start_time": "2023-04-10T04:26:06.171632",
     "status": "completed"
    },
    "tags": []
   },
   "outputs": [],
   "source": [
    "## csv 파일로 저장\n",
    "sample.to_csv(\"baseline.csv\",index=False,header=True)"
   ]
  },
  {
   "cell_type": "code",
   "execution_count": 19,
   "id": "626689ff",
   "metadata": {
    "execution": {
     "iopub.execute_input": "2023-04-10T04:26:06.210594Z",
     "iopub.status.busy": "2023-04-10T04:26:06.209889Z",
     "iopub.status.idle": "2023-04-10T04:26:06.222081Z",
     "shell.execute_reply": "2023-04-10T04:26:06.220991Z"
    },
    "papermill": {
     "duration": 0.023896,
     "end_time": "2023-04-10T04:26:06.224299",
     "exception": false,
     "start_time": "2023-04-10T04:26:06.200403",
     "status": "completed"
    },
    "tags": []
   },
   "outputs": [
    {
     "data": {
      "text/html": [
       "<div>\n",
       "<style scoped>\n",
       "    .dataframe tbody tr th:only-of-type {\n",
       "        vertical-align: middle;\n",
       "    }\n",
       "\n",
       "    .dataframe tbody tr th {\n",
       "        vertical-align: top;\n",
       "    }\n",
       "\n",
       "    .dataframe thead th {\n",
       "        text-align: right;\n",
       "    }\n",
       "</style>\n",
       "<table border=\"1\" class=\"dataframe\">\n",
       "  <thead>\n",
       "    <tr style=\"text-align: right;\">\n",
       "      <th></th>\n",
       "      <th>ID</th>\n",
       "      <th>label</th>\n",
       "    </tr>\n",
       "  </thead>\n",
       "  <tbody>\n",
       "    <tr>\n",
       "      <th>0</th>\n",
       "      <td>IMG_4159</td>\n",
       "      <td>0</td>\n",
       "    </tr>\n",
       "    <tr>\n",
       "      <th>1</th>\n",
       "      <td>IMG_4725</td>\n",
       "      <td>0</td>\n",
       "    </tr>\n",
       "    <tr>\n",
       "      <th>2</th>\n",
       "      <td>IMG_4976</td>\n",
       "      <td>0</td>\n",
       "    </tr>\n",
       "    <tr>\n",
       "      <th>3</th>\n",
       "      <td>IMG_5572</td>\n",
       "      <td>0</td>\n",
       "    </tr>\n",
       "    <tr>\n",
       "      <th>4</th>\n",
       "      <td>IMG_5695</td>\n",
       "      <td>0</td>\n",
       "    </tr>\n",
       "    <tr>\n",
       "      <th>5</th>\n",
       "      <td>IMG_4497</td>\n",
       "      <td>1</td>\n",
       "    </tr>\n",
       "    <tr>\n",
       "      <th>6</th>\n",
       "      <td>IMG_5309</td>\n",
       "      <td>1</td>\n",
       "    </tr>\n",
       "    <tr>\n",
       "      <th>7</th>\n",
       "      <td>IMG_5340</td>\n",
       "      <td>1</td>\n",
       "    </tr>\n",
       "    <tr>\n",
       "      <th>8</th>\n",
       "      <td>IMG_5401</td>\n",
       "      <td>1</td>\n",
       "    </tr>\n",
       "    <tr>\n",
       "      <th>9</th>\n",
       "      <td>IMG_5992</td>\n",
       "      <td>1</td>\n",
       "    </tr>\n",
       "    <tr>\n",
       "      <th>10</th>\n",
       "      <td>IMG_4727</td>\n",
       "      <td>2</td>\n",
       "    </tr>\n",
       "    <tr>\n",
       "      <th>11</th>\n",
       "      <td>IMG_5342</td>\n",
       "      <td>2</td>\n",
       "    </tr>\n",
       "    <tr>\n",
       "      <th>12</th>\n",
       "      <td>IMG_5594</td>\n",
       "      <td>2</td>\n",
       "    </tr>\n",
       "    <tr>\n",
       "      <th>13</th>\n",
       "      <td>IMG_5707</td>\n",
       "      <td>2</td>\n",
       "    </tr>\n",
       "    <tr>\n",
       "      <th>14</th>\n",
       "      <td>IMG_5718</td>\n",
       "      <td>2</td>\n",
       "    </tr>\n",
       "    <tr>\n",
       "      <th>15</th>\n",
       "      <td>IMG_4184</td>\n",
       "      <td>3</td>\n",
       "    </tr>\n",
       "    <tr>\n",
       "      <th>16</th>\n",
       "      <td>IMG_5114</td>\n",
       "      <td>3</td>\n",
       "    </tr>\n",
       "    <tr>\n",
       "      <th>17</th>\n",
       "      <td>IMG_5279</td>\n",
       "      <td>3</td>\n",
       "    </tr>\n",
       "    <tr>\n",
       "      <th>18</th>\n",
       "      <td>IMG_5469</td>\n",
       "      <td>3</td>\n",
       "    </tr>\n",
       "    <tr>\n",
       "      <th>19</th>\n",
       "      <td>IMG_5910</td>\n",
       "      <td>3</td>\n",
       "    </tr>\n",
       "    <tr>\n",
       "      <th>20</th>\n",
       "      <td>IMG_4093</td>\n",
       "      <td>4</td>\n",
       "    </tr>\n",
       "    <tr>\n",
       "      <th>21</th>\n",
       "      <td>IMG_4217</td>\n",
       "      <td>4</td>\n",
       "    </tr>\n",
       "    <tr>\n",
       "      <th>22</th>\n",
       "      <td>IMG_4840</td>\n",
       "      <td>4</td>\n",
       "    </tr>\n",
       "    <tr>\n",
       "      <th>23</th>\n",
       "      <td>IMG_5954</td>\n",
       "      <td>4</td>\n",
       "    </tr>\n",
       "    <tr>\n",
       "      <th>24</th>\n",
       "      <td>IMG_5995</td>\n",
       "      <td>4</td>\n",
       "    </tr>\n",
       "    <tr>\n",
       "      <th>25</th>\n",
       "      <td>IMG_4471</td>\n",
       "      <td>5</td>\n",
       "    </tr>\n",
       "    <tr>\n",
       "      <th>26</th>\n",
       "      <td>IMG_4501</td>\n",
       "      <td>5</td>\n",
       "    </tr>\n",
       "    <tr>\n",
       "      <th>27</th>\n",
       "      <td>IMG_5250</td>\n",
       "      <td>5</td>\n",
       "    </tr>\n",
       "    <tr>\n",
       "      <th>28</th>\n",
       "      <td>IMG_5710</td>\n",
       "      <td>5</td>\n",
       "    </tr>\n",
       "    <tr>\n",
       "      <th>29</th>\n",
       "      <td>IMG_5892</td>\n",
       "      <td>5</td>\n",
       "    </tr>\n",
       "    <tr>\n",
       "      <th>30</th>\n",
       "      <td>IMG_4272</td>\n",
       "      <td>6</td>\n",
       "    </tr>\n",
       "    <tr>\n",
       "      <th>31</th>\n",
       "      <td>IMG_4590</td>\n",
       "      <td>6</td>\n",
       "    </tr>\n",
       "    <tr>\n",
       "      <th>32</th>\n",
       "      <td>IMG_4731</td>\n",
       "      <td>6</td>\n",
       "    </tr>\n",
       "    <tr>\n",
       "      <th>33</th>\n",
       "      <td>IMG_4942</td>\n",
       "      <td>6</td>\n",
       "    </tr>\n",
       "    <tr>\n",
       "      <th>34</th>\n",
       "      <td>IMG_5742</td>\n",
       "      <td>6</td>\n",
       "    </tr>\n",
       "    <tr>\n",
       "      <th>35</th>\n",
       "      <td>IMG_1176</td>\n",
       "      <td>7</td>\n",
       "    </tr>\n",
       "    <tr>\n",
       "      <th>36</th>\n",
       "      <td>IMG_4188</td>\n",
       "      <td>7</td>\n",
       "    </tr>\n",
       "    <tr>\n",
       "      <th>37</th>\n",
       "      <td>IMG_4420</td>\n",
       "      <td>7</td>\n",
       "    </tr>\n",
       "    <tr>\n",
       "      <th>38</th>\n",
       "      <td>IMG_5082</td>\n",
       "      <td>7</td>\n",
       "    </tr>\n",
       "    <tr>\n",
       "      <th>39</th>\n",
       "      <td>IMG_5803</td>\n",
       "      <td>7</td>\n",
       "    </tr>\n",
       "    <tr>\n",
       "      <th>40</th>\n",
       "      <td>IMG_4252</td>\n",
       "      <td>8</td>\n",
       "    </tr>\n",
       "    <tr>\n",
       "      <th>41</th>\n",
       "      <td>IMG_4844</td>\n",
       "      <td>8</td>\n",
       "    </tr>\n",
       "    <tr>\n",
       "      <th>42</th>\n",
       "      <td>IMG_4904</td>\n",
       "      <td>8</td>\n",
       "    </tr>\n",
       "    <tr>\n",
       "      <th>43</th>\n",
       "      <td>IMG_5348</td>\n",
       "      <td>8</td>\n",
       "    </tr>\n",
       "    <tr>\n",
       "      <th>44</th>\n",
       "      <td>IMG_5989</td>\n",
       "      <td>8</td>\n",
       "    </tr>\n",
       "    <tr>\n",
       "      <th>45</th>\n",
       "      <td>IMG_4495</td>\n",
       "      <td>9</td>\n",
       "    </tr>\n",
       "    <tr>\n",
       "      <th>46</th>\n",
       "      <td>IMG_5317</td>\n",
       "      <td>9</td>\n",
       "    </tr>\n",
       "    <tr>\n",
       "      <th>47</th>\n",
       "      <td>IMG_5694</td>\n",
       "      <td>9</td>\n",
       "    </tr>\n",
       "    <tr>\n",
       "      <th>48</th>\n",
       "      <td>IMG_5755</td>\n",
       "      <td>9</td>\n",
       "    </tr>\n",
       "    <tr>\n",
       "      <th>49</th>\n",
       "      <td>IMG_5917</td>\n",
       "      <td>9</td>\n",
       "    </tr>\n",
       "  </tbody>\n",
       "</table>\n",
       "</div>"
      ],
      "text/plain": [
       "          ID  label\n",
       "0   IMG_4159      0\n",
       "1   IMG_4725      0\n",
       "2   IMG_4976      0\n",
       "3   IMG_5572      0\n",
       "4   IMG_5695      0\n",
       "5   IMG_4497      1\n",
       "6   IMG_5309      1\n",
       "7   IMG_5340      1\n",
       "8   IMG_5401      1\n",
       "9   IMG_5992      1\n",
       "10  IMG_4727      2\n",
       "11  IMG_5342      2\n",
       "12  IMG_5594      2\n",
       "13  IMG_5707      2\n",
       "14  IMG_5718      2\n",
       "15  IMG_4184      3\n",
       "16  IMG_5114      3\n",
       "17  IMG_5279      3\n",
       "18  IMG_5469      3\n",
       "19  IMG_5910      3\n",
       "20  IMG_4093      4\n",
       "21  IMG_4217      4\n",
       "22  IMG_4840      4\n",
       "23  IMG_5954      4\n",
       "24  IMG_5995      4\n",
       "25  IMG_4471      5\n",
       "26  IMG_4501      5\n",
       "27  IMG_5250      5\n",
       "28  IMG_5710      5\n",
       "29  IMG_5892      5\n",
       "30  IMG_4272      6\n",
       "31  IMG_4590      6\n",
       "32  IMG_4731      6\n",
       "33  IMG_4942      6\n",
       "34  IMG_5742      6\n",
       "35  IMG_1176      7\n",
       "36  IMG_4188      7\n",
       "37  IMG_4420      7\n",
       "38  IMG_5082      7\n",
       "39  IMG_5803      7\n",
       "40  IMG_4252      8\n",
       "41  IMG_4844      8\n",
       "42  IMG_4904      8\n",
       "43  IMG_5348      8\n",
       "44  IMG_5989      8\n",
       "45  IMG_4495      9\n",
       "46  IMG_5317      9\n",
       "47  IMG_5694      9\n",
       "48  IMG_5755      9\n",
       "49  IMG_5917      9"
      ]
     },
     "execution_count": 19,
     "metadata": {},
     "output_type": "execute_result"
    }
   ],
   "source": [
    "sample"
   ]
  },
  {
   "cell_type": "code",
   "execution_count": null,
   "id": "70ad1fdf",
   "metadata": {
    "papermill": {
     "duration": 0.008642,
     "end_time": "2023-04-10T04:26:06.242019",
     "exception": false,
     "start_time": "2023-04-10T04:26:06.233377",
     "status": "completed"
    },
    "tags": []
   },
   "outputs": [],
   "source": []
  }
 ],
 "metadata": {
  "kernelspec": {
   "display_name": "Python 3",
   "language": "python",
   "name": "python3"
  },
  "language_info": {
   "codemirror_mode": {
    "name": "ipython",
    "version": 3
   },
   "file_extension": ".py",
   "mimetype": "text/x-python",
   "name": "python",
   "nbconvert_exporter": "python",
   "pygments_lexer": "ipython3",
   "version": "3.7.12"
  },
  "papermill": {
   "default_parameters": {},
   "duration": 323.825691,
   "end_time": "2023-04-10T04:26:08.079119",
   "environment_variables": {},
   "exception": null,
   "input_path": "__notebook__.ipynb",
   "output_path": "__notebook__.ipynb",
   "parameters": {},
   "start_time": "2023-04-10T04:20:44.253428",
   "version": "2.4.0"
  },
  "widgets": {
   "application/vnd.jupyter.widget-state+json": {
    "state": {
     "0025a01775484ba88ccff9abac6ae443": {
      "model_module": "@jupyter-widgets/controls",
      "model_module_version": "1.5.0",
      "model_name": "DescriptionStyleModel",
      "state": {
       "_model_module": "@jupyter-widgets/controls",
       "_model_module_version": "1.5.0",
       "_model_name": "DescriptionStyleModel",
       "_view_count": null,
       "_view_module": "@jupyter-widgets/base",
       "_view_module_version": "1.2.0",
       "_view_name": "StyleView",
       "description_width": ""
      }
     },
     "0c7beb9d41be4b498f4b5b03f3e826b9": {
      "model_module": "@jupyter-widgets/controls",
      "model_module_version": "1.5.0",
      "model_name": "ProgressStyleModel",
      "state": {
       "_model_module": "@jupyter-widgets/controls",
       "_model_module_version": "1.5.0",
       "_model_name": "ProgressStyleModel",
       "_view_count": null,
       "_view_module": "@jupyter-widgets/base",
       "_view_module_version": "1.2.0",
       "_view_name": "StyleView",
       "bar_color": null,
       "description_width": ""
      }
     },
     "39ee4c6444274253b926117f3b687fe6": {
      "model_module": "@jupyter-widgets/base",
      "model_module_version": "1.2.0",
      "model_name": "LayoutModel",
      "state": {
       "_model_module": "@jupyter-widgets/base",
       "_model_module_version": "1.2.0",
       "_model_name": "LayoutModel",
       "_view_count": null,
       "_view_module": "@jupyter-widgets/base",
       "_view_module_version": "1.2.0",
       "_view_name": "LayoutView",
       "align_content": null,
       "align_items": null,
       "align_self": null,
       "border": null,
       "bottom": null,
       "display": null,
       "flex": null,
       "flex_flow": null,
       "grid_area": null,
       "grid_auto_columns": null,
       "grid_auto_flow": null,
       "grid_auto_rows": null,
       "grid_column": null,
       "grid_gap": null,
       "grid_row": null,
       "grid_template_areas": null,
       "grid_template_columns": null,
       "grid_template_rows": null,
       "height": null,
       "justify_content": null,
       "justify_items": null,
       "left": null,
       "margin": null,
       "max_height": null,
       "max_width": null,
       "min_height": null,
       "min_width": null,
       "object_fit": null,
       "object_position": null,
       "order": null,
       "overflow": null,
       "overflow_x": null,
       "overflow_y": null,
       "padding": null,
       "right": null,
       "top": null,
       "visibility": null,
       "width": null
      }
     },
     "3e97bdeddd0742be8b91dffdd5983a59": {
      "model_module": "@jupyter-widgets/controls",
      "model_module_version": "1.5.0",
      "model_name": "HTMLModel",
      "state": {
       "_dom_classes": [],
       "_model_module": "@jupyter-widgets/controls",
       "_model_module_version": "1.5.0",
       "_model_name": "HTMLModel",
       "_view_count": null,
       "_view_module": "@jupyter-widgets/controls",
       "_view_module_version": "1.5.0",
       "_view_name": "HTMLView",
       "description": "",
       "description_tooltip": null,
       "layout": "IPY_MODEL_6215031cd6b8428c913a6f5cedc9b0bd",
       "placeholder": "​",
       "style": "IPY_MODEL_830143b2167245be86cec2c949f87d8e",
       "value": " 528M/528M [00:02&lt;00:00, 254MB/s]"
      }
     },
     "4e8c85a8c62c4db2abc299a84593fa73": {
      "model_module": "@jupyter-widgets/controls",
      "model_module_version": "1.5.0",
      "model_name": "HBoxModel",
      "state": {
       "_dom_classes": [],
       "_model_module": "@jupyter-widgets/controls",
       "_model_module_version": "1.5.0",
       "_model_name": "HBoxModel",
       "_view_count": null,
       "_view_module": "@jupyter-widgets/controls",
       "_view_module_version": "1.5.0",
       "_view_name": "HBoxView",
       "box_style": "",
       "children": [
        "IPY_MODEL_f6a88b026dc04320966415ccef8c0bc9",
        "IPY_MODEL_746eb570abda4429aef00049d328b038",
        "IPY_MODEL_3e97bdeddd0742be8b91dffdd5983a59"
       ],
       "layout": "IPY_MODEL_a666b06b924e456193f9d5ada7c335ee"
      }
     },
     "6215031cd6b8428c913a6f5cedc9b0bd": {
      "model_module": "@jupyter-widgets/base",
      "model_module_version": "1.2.0",
      "model_name": "LayoutModel",
      "state": {
       "_model_module": "@jupyter-widgets/base",
       "_model_module_version": "1.2.0",
       "_model_name": "LayoutModel",
       "_view_count": null,
       "_view_module": "@jupyter-widgets/base",
       "_view_module_version": "1.2.0",
       "_view_name": "LayoutView",
       "align_content": null,
       "align_items": null,
       "align_self": null,
       "border": null,
       "bottom": null,
       "display": null,
       "flex": null,
       "flex_flow": null,
       "grid_area": null,
       "grid_auto_columns": null,
       "grid_auto_flow": null,
       "grid_auto_rows": null,
       "grid_column": null,
       "grid_gap": null,
       "grid_row": null,
       "grid_template_areas": null,
       "grid_template_columns": null,
       "grid_template_rows": null,
       "height": null,
       "justify_content": null,
       "justify_items": null,
       "left": null,
       "margin": null,
       "max_height": null,
       "max_width": null,
       "min_height": null,
       "min_width": null,
       "object_fit": null,
       "object_position": null,
       "order": null,
       "overflow": null,
       "overflow_x": null,
       "overflow_y": null,
       "padding": null,
       "right": null,
       "top": null,
       "visibility": null,
       "width": null
      }
     },
     "746eb570abda4429aef00049d328b038": {
      "model_module": "@jupyter-widgets/controls",
      "model_module_version": "1.5.0",
      "model_name": "FloatProgressModel",
      "state": {
       "_dom_classes": [],
       "_model_module": "@jupyter-widgets/controls",
       "_model_module_version": "1.5.0",
       "_model_name": "FloatProgressModel",
       "_view_count": null,
       "_view_module": "@jupyter-widgets/controls",
       "_view_module_version": "1.5.0",
       "_view_name": "ProgressView",
       "bar_style": "success",
       "description": "",
       "description_tooltip": null,
       "layout": "IPY_MODEL_39ee4c6444274253b926117f3b687fe6",
       "max": 553433881.0,
       "min": 0.0,
       "orientation": "horizontal",
       "style": "IPY_MODEL_0c7beb9d41be4b498f4b5b03f3e826b9",
       "value": 553433881.0
      }
     },
     "830143b2167245be86cec2c949f87d8e": {
      "model_module": "@jupyter-widgets/controls",
      "model_module_version": "1.5.0",
      "model_name": "DescriptionStyleModel",
      "state": {
       "_model_module": "@jupyter-widgets/controls",
       "_model_module_version": "1.5.0",
       "_model_name": "DescriptionStyleModel",
       "_view_count": null,
       "_view_module": "@jupyter-widgets/base",
       "_view_module_version": "1.2.0",
       "_view_name": "StyleView",
       "description_width": ""
      }
     },
     "97b7e1f385be473c85b9be9c4c2d1e23": {
      "model_module": "@jupyter-widgets/base",
      "model_module_version": "1.2.0",
      "model_name": "LayoutModel",
      "state": {
       "_model_module": "@jupyter-widgets/base",
       "_model_module_version": "1.2.0",
       "_model_name": "LayoutModel",
       "_view_count": null,
       "_view_module": "@jupyter-widgets/base",
       "_view_module_version": "1.2.0",
       "_view_name": "LayoutView",
       "align_content": null,
       "align_items": null,
       "align_self": null,
       "border": null,
       "bottom": null,
       "display": null,
       "flex": null,
       "flex_flow": null,
       "grid_area": null,
       "grid_auto_columns": null,
       "grid_auto_flow": null,
       "grid_auto_rows": null,
       "grid_column": null,
       "grid_gap": null,
       "grid_row": null,
       "grid_template_areas": null,
       "grid_template_columns": null,
       "grid_template_rows": null,
       "height": null,
       "justify_content": null,
       "justify_items": null,
       "left": null,
       "margin": null,
       "max_height": null,
       "max_width": null,
       "min_height": null,
       "min_width": null,
       "object_fit": null,
       "object_position": null,
       "order": null,
       "overflow": null,
       "overflow_x": null,
       "overflow_y": null,
       "padding": null,
       "right": null,
       "top": null,
       "visibility": null,
       "width": null
      }
     },
     "a666b06b924e456193f9d5ada7c335ee": {
      "model_module": "@jupyter-widgets/base",
      "model_module_version": "1.2.0",
      "model_name": "LayoutModel",
      "state": {
       "_model_module": "@jupyter-widgets/base",
       "_model_module_version": "1.2.0",
       "_model_name": "LayoutModel",
       "_view_count": null,
       "_view_module": "@jupyter-widgets/base",
       "_view_module_version": "1.2.0",
       "_view_name": "LayoutView",
       "align_content": null,
       "align_items": null,
       "align_self": null,
       "border": null,
       "bottom": null,
       "display": null,
       "flex": null,
       "flex_flow": null,
       "grid_area": null,
       "grid_auto_columns": null,
       "grid_auto_flow": null,
       "grid_auto_rows": null,
       "grid_column": null,
       "grid_gap": null,
       "grid_row": null,
       "grid_template_areas": null,
       "grid_template_columns": null,
       "grid_template_rows": null,
       "height": null,
       "justify_content": null,
       "justify_items": null,
       "left": null,
       "margin": null,
       "max_height": null,
       "max_width": null,
       "min_height": null,
       "min_width": null,
       "object_fit": null,
       "object_position": null,
       "order": null,
       "overflow": null,
       "overflow_x": null,
       "overflow_y": null,
       "padding": null,
       "right": null,
       "top": null,
       "visibility": null,
       "width": null
      }
     },
     "f6a88b026dc04320966415ccef8c0bc9": {
      "model_module": "@jupyter-widgets/controls",
      "model_module_version": "1.5.0",
      "model_name": "HTMLModel",
      "state": {
       "_dom_classes": [],
       "_model_module": "@jupyter-widgets/controls",
       "_model_module_version": "1.5.0",
       "_model_name": "HTMLModel",
       "_view_count": null,
       "_view_module": "@jupyter-widgets/controls",
       "_view_module_version": "1.5.0",
       "_view_name": "HTMLView",
       "description": "",
       "description_tooltip": null,
       "layout": "IPY_MODEL_97b7e1f385be473c85b9be9c4c2d1e23",
       "placeholder": "​",
       "style": "IPY_MODEL_0025a01775484ba88ccff9abac6ae443",
       "value": "100%"
      }
     }
    },
    "version_major": 2,
    "version_minor": 0
   }
  }
 },
 "nbformat": 4,
 "nbformat_minor": 5
}
